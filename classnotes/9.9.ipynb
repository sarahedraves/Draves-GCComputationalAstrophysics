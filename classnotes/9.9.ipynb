{
 "cells": [
  {
   "cell_type": "markdown",
   "id": "2e9f0f52-bfcc-44bd-aeb5-0a1a99f90eff",
   "metadata": {},
   "source": [
    "Homework feedback:\n",
    "- do some creative ideas and add onto the exercises\n",
    "    - ex: adding hardcorded gravity options for all the different planets in the solar system for the time to ground code\n",
    "        - could store those using a dictionary\n",
    "        - can use argparse to limit inputs to a certain list\n",
    "    - ex: could add options for plotting how long the ball takes to fall - good use of argparse if you've already made the plot for debugging, just add a boolean argument for when to plot it instead of getting rid of the code\n",
    "- make sure you test it on the command line and that it handles different types of inputs appropriately\n",
    "- can update the homework after the due date if you have some good ideas but tell Ari if you want him to look at it again"
   ]
  },
  {
   "cell_type": "markdown",
   "id": "53e6a645-bb71-430f-b39b-51b6342ebf8a",
   "metadata": {},
   "source": [
    "Continuing integration:\n",
    "- trapezoid rule works great overall\n",
    "- rectangle rule is an x^0 fit and trapezoid rule is an x^1 fit\n",
    "- so a quadratic fit (x^2) should be even better - this is called Simpson's Rule\n",
    "    - consider three points given by -deltax, 0, and delta x\n",
    "    - evaluate the quadratic at all three points and solve for A, B, C (see slides)\n",
    "    - then integrate from -deltax to deltax for to get 1/3* deltax *(f(-deltax)+4 *f(0)+f(deltax))\n",
    "    - then sum that over all the deltax's"
   ]
  },
  {
   "cell_type": "code",
   "execution_count": 6,
   "id": "e9a91321-0a39-4e27-a56c-c2c641221877",
   "metadata": {},
   "outputs": [],
   "source": [
    "def f(x):\n",
    "    return x**4-2*x+1"
   ]
  },
  {
   "cell_type": "code",
   "execution_count": 9,
   "id": "db3a9626-e436-45a0-bfda-73d12a23b36b",
   "metadata": {},
   "outputs": [],
   "source": [
    "def trapezoid(function, a, b, N=10):\n",
    "    deltax=(b-a)/N\n",
    "    mysum=0\n",
    "    for k in range(1,N+1):\n",
    "        mysum+=function(a+k*deltax)\n",
    "    fa=function(a)\n",
    "    fb=function(b)\n",
    "    return deltax*(0.5*fa+0.5*fb+mysum)"
   ]
  },
  {
   "cell_type": "code",
   "execution_count": 37,
   "id": "fa113de1-3d04-4ffc-8bb7-13f02a082461",
   "metadata": {},
   "outputs": [],
   "source": [
    "def simpsons(function, a, b, N=10): #make sure that N is even\n",
    "    deltax=(b-a)/N\n",
    "    mysum=function(a)+function(b)\n",
    "    N2=int(N/2) #need to cast this as an int for the range function to work - could use integer division // instead\n",
    "    for k in range (1, (N2)+1): #goes to N/2 since range doesn't include the endpoint\n",
    "        mysum+=4*function(a+(2*k-1)*deltax)\n",
    "    for k in range (1, N2): #goes to N/2 -1\n",
    "        mysum+=2*function(a+2*k*deltax)\n",
    "    return mysum*deltax/3"
   ]
  },
  {
   "cell_type": "code",
   "execution_count": 39,
   "id": "1b436165-8e9b-4927-875f-1af9f8604fc0",
   "metadata": {},
   "outputs": [
    {
     "data": {
      "text/plain": [
       "4.400426666666668"
      ]
     },
     "execution_count": 39,
     "metadata": {},
     "output_type": "execute_result"
    }
   ],
   "source": [
    "simpsons(f,0,2)"
   ]
  },
  {
   "cell_type": "markdown",
   "id": "3cb373b4-0e3a-4cad-80d2-4c5a4719ef3c",
   "metadata": {},
   "source": [
    "Errors on integration:\n",
    "- rounding error generally is not contributing much to the total error but it is still there\n",
    "- approximation error is the main source of error\n",
    "- use Taylor expansion to figure out how large the approximation error is - see slides\n",
    "- basically the first term is the trapezoid rule and the second is simpson's rule\n",
    "- can see that the error is O(h^4) for simpsons and O(h^2) for trapezoid\n",
    "- can calculate the exact error as e=1/12 *h^2 (f'(a)-f'(b)) for trapezoid rule so it's first order\n",
    "- same analysis for simpson's gives e=1/90 *h^4 (f'''(a)-f'''(b)) so it's third order\n",
    "- can only get those exact errors if you can calculate the derivative of the function\n",
    "- can determine the error numerically instead\n",
    "    - evaluate the integral once with N1 steps to get I1 and then double that number of steps N2 to get I2 and then seeing the decrease\n",
    "    - for trapezoid, error on the second integration (with double the number of steps) is 1/3|I2 - I1| where\n",
    "    - for simpsons, it's 1/15|I2 - I1|"
   ]
  },
  {
   "cell_type": "code",
   "execution_count": 57,
   "id": "827412e4-62ce-4ba4-8ace-698dc5364d70",
   "metadata": {},
   "outputs": [
    {
     "name": "stdout",
     "output_type": "stream",
     "text": [
      "Error is 0.4599666666666664\n"
     ]
    }
   ],
   "source": [
    "I10=trapezoid(f,0,2,N=10)\n",
    "I20=trapezoid(f,0,2,N=20)\n",
    "print(\"Error is \"+str((1/3)*abs(I20-I10)))"
   ]
  },
  {
   "cell_type": "code",
   "execution_count": 59,
   "id": "dc648926-431c-442a-9bbb-ff7f5ffd737a",
   "metadata": {},
   "outputs": [
    {
     "name": "stdout",
     "output_type": "stream",
     "text": [
      "Error is 2.6666666666604518e-05\n"
     ]
    }
   ],
   "source": [
    "I10=simpsons(f,0,2,N=10)\n",
    "I20=simpsons(f,0,2,N=20)\n",
    "print(\"Error is \"+str((1/15)*abs(I20-I10)))"
   ]
  },
  {
   "cell_type": "markdown",
   "id": "f4800b2d-d6e0-4b04-87f8-88ef0ef9326a",
   "metadata": {},
   "source": [
    "Picking number of steps:\n",
    "- more steps means smaller step size h\n",
    "- when h gets very small, the approximation error gets very small, but if h is getting close to machine precision, roundoff error starts increasing\n",
    "- once the approximation error is the order of the roundoff error, there's no point in decreasing h more\n",
    "- for trap rule, don't go past N~ 10^8 and for simpson's rule past N~ 10^4"
   ]
  },
  {
   "cell_type": "markdown",
   "id": "dcaff286-7470-4195-98de-5b209455f3fe",
   "metadata": {},
   "source": [
    "Adaptive integration: \n",
    "- don't actually need to go all the way to the machine precision normally and that also often takes too long\n",
    "- estimate the accuracy by running two values of the number of steps and then continue increasing N until you get the desired accuracy\n",
    "- when you double the number of steps, you calculated the values of half of the steps last time, so can just hang onto those values and only do the new steps - this is called nested steps\n",
    "- this means adaptive integration takes about as long as the final number of steps you end up using since the error checks are quick"
   ]
  },
  {
   "cell_type": "code",
   "execution_count": null,
   "id": "0d27386f-b87a-421d-8060-de2ca45a8537",
   "metadata": {},
   "outputs": [],
   "source": []
  }
 ],
 "metadata": {
  "kernelspec": {
   "display_name": "Python [conda env:base] *",
   "language": "python",
   "name": "conda-base-py"
  },
  "language_info": {
   "codemirror_mode": {
    "name": "ipython",
    "version": 3
   },
   "file_extension": ".py",
   "mimetype": "text/x-python",
   "name": "python",
   "nbconvert_exporter": "python",
   "pygments_lexer": "ipython3",
   "version": "3.12.2"
  }
 },
 "nbformat": 4,
 "nbformat_minor": 5
}
