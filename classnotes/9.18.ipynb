{
 "cells": [
  {
   "cell_type": "markdown",
   "id": "2ed4fe90-687a-412b-9bd5-ed5bf1da0fde",
   "metadata": {},
   "source": [
    "Nonlinear equations:\n",
    "- will learn three methods for solving equations\n",
    "- also find max and min\n",
    "- systems of linear equations are nice and easy to solve\n",
    "- nonlinear equations are much more difficult and many cannot be solved analytically\n",
    "- many numerical techniques fall into two categories: if you have derivatives or not\n",
    "- in general easier to solve if you have an area where you expect the solution to be"
   ]
  },
  {
   "cell_type": "markdown",
   "id": "3b0570f8-12df-4c9a-a929-340c017d82b6",
   "metadata": {},
   "source": [
    "Relaxation method:\n",
    "- example: x=2-e^(-x) is unsolvable\n",
    "- method:\n",
    "    - just plug in x=1 into the right side of the equation and then evaluate it and see what the left side is\n",
    "    - then take that number and plug it in\n",
    "    - keep doing it until both sides are equal (within tolerance level)\n",
    "- simple and fast but does not always work\n",
    "- limitations:\n",
    "    - need to be able to write the equation in the form x=f(x)\n",
    "    - if there are multiple solutions, you could try changing your starting guess, but you might not be able to find all of them\n",
    "    - sometimes the method will oscillate instead of relaxing to a single value\n",
    "        - ex: x=e^(1-x^2) has no analytic solution but if you plug in x=1 then it works\n",
    "        - if you start with x=1/2 though it will oscillate back and forth and not converge\n",
    "        - if you rearrange to x=sqrt(1-lnx) then the  relaxation method will converge\n",
    "- understand when it doesn't converge: taylor expansion around a point x near a solution x*\n",
    "    - if f'(x*)<1 will converge, otherwise will not - see slide for equations of why\n",
    "    - so if you invert the function, should invert the derivative and then the method should work\n",
    "    - if you can't invert it then you are screwed"
   ]
  },
  {
   "cell_type": "code",
   "execution_count": 4,
   "id": "1f80a3ea-ebad-41aa-962b-e244b79fc506",
   "metadata": {},
   "outputs": [],
   "source": [
    "import math\n",
    "import numpy as np\n",
    "import matplotlib.pyplot as plt"
   ]
  },
  {
   "cell_type": "code",
   "execution_count": 5,
   "id": "1abfb6b5-5e2d-44fd-88af-515bf67d26bf",
   "metadata": {},
   "outputs": [],
   "source": [
    "def f(x,c=2):\n",
    "    return 1-math.exp(-c*x)"
   ]
  },
  {
   "cell_type": "code",
   "execution_count": 6,
   "id": "901360b6-0b54-4d9a-a042-9a9f5e216391",
   "metadata": {},
   "outputs": [],
   "source": [
    "def relax(f,x1=1,tol=10**-8,c=2):#modify this to do the **kwargs thing where the additional arguments are passed to the function\n",
    "    maxits=100000\n",
    "    its=0\n",
    "    x2=f(x1,c)\n",
    "    while abs(x1-x2)>tol:\n",
    "        its+=1\n",
    "        x1=x2\n",
    "        x2=f(x1,c)\n",
    "        if its>maxits:\n",
    "            print(f\"Did not converge after 100000 iterations when c={c}.\")\n",
    "            return\n",
    "    return x2"
   ]
  },
  {
   "cell_type": "code",
   "execution_count": 7,
   "id": "98cfcb68-0d69-45d5-811a-dd4959a10806",
   "metadata": {},
   "outputs": [
    {
     "data": {
      "text/plain": [
       "0.7968121355733799"
      ]
     },
     "execution_count": 7,
     "metadata": {},
     "output_type": "execute_result"
    }
   ],
   "source": [
    "relax(f)"
   ]
  },
  {
   "cell_type": "code",
   "execution_count": 8,
   "id": "b27c4a6b-5c5b-46b0-aec2-62c5415fa500",
   "metadata": {},
   "outputs": [],
   "source": [
    "Cs=np.arange(0,3.1,0.1)"
   ]
  },
  {
   "cell_type": "code",
   "execution_count": 9,
   "id": "159a1399-bbd4-4d5f-928d-6b0c20d7e1f9",
   "metadata": {},
   "outputs": [],
   "source": [
    "Xs=np.zeros(Cs.size)"
   ]
  },
  {
   "cell_type": "code",
   "execution_count": 10,
   "id": "68e0b722-abf9-481e-9b2b-0d10c4310b94",
   "metadata": {},
   "outputs": [],
   "source": [
    "for i,c in enumerate(Cs):\n",
    "    Xs[i]=relax(f,c=c)"
   ]
  },
  {
   "cell_type": "code",
   "execution_count": 11,
   "id": "feaf77b5-d35b-477f-8514-fc9ccd2c3488",
   "metadata": {},
   "outputs": [
    {
     "data": {
      "text/plain": [
       "array([0.00000000e+00, 9.46614009e-10, 7.25947080e-10, 3.52145468e-09,\n",
       "       3.26094884e-09, 9.76441561e-09, 9.59403090e-09, 1.64412775e-08,\n",
       "       3.39155116e-08, 8.52633995e-08, 1.41412874e-04, 1.76134239e-01,\n",
       "       3.13698375e-01, 4.22969975e-01, 5.11011198e-01, 5.82811660e-01,\n",
       "       6.41981329e-01, 6.91186059e-01, 7.32429976e-01, 7.67243595e-01,\n",
       "       7.96812136e-01, 8.22064871e-01, 8.43738578e-01, 8.62423282e-01,\n",
       "       8.78595823e-01, 8.92644757e-01, 9.04889096e-01, 9.15592581e-01,\n",
       "       9.24974633e-01, 9.33218871e-01, 9.40479792e-01])"
      ]
     },
     "execution_count": 11,
     "metadata": {},
     "output_type": "execute_result"
    }
   ],
   "source": [
    "Xs"
   ]
  },
  {
   "cell_type": "code",
   "execution_count": 12,
   "id": "a32d7f5f-93e3-4076-b884-15c13a57b7cd",
   "metadata": {},
   "outputs": [
    {
     "data": {
      "image/png": "[encoded data removed]",
      "text/plain": [
       "<Figure size 640x480 with 1 Axes>"
      ]
     },
     "metadata": {},
     "output_type": "display_data"
    }
   ],
   "source": [
    "plt.scatter(Cs,Xs)\n",
    "plt.xlabel('C')\n",
    "plt.ylabel('X')\n",
    "plt.show()"
   ]
  },
  {
   "cell_type": "markdown",
   "id": "10534851-55fe-47e2-b364-d4bc51032f45",
   "metadata": {},
   "source": [
    "Relaxation method for more than one variable:\n",
    "- works for systems of equations with multiple variables as long as you can write each equation in a form to give back one of the variables, like x=f(x,y) and y=f(x,y)\n",
    "- also can use it for things like ODEs"
   ]
  },
  {
   "cell_type": "markdown",
   "id": "c23b9f0c-ca7a-4cdb-852f-7e19aff890a2",
   "metadata": {},
   "source": [
    "Bisection method:\n",
    "- if a solution exists in your search interval, this will definitely find it\n",
    "- rearrange the equation to the form f(x)=0, which is always possible\n",
    "- so this is a type of root finding\n",
    "- algorithm:\n",
    "    - evaluate f(x1) and f(x2)\n",
    "    - if one is positive and one is negative and the fn is continuous, there must be a root between them\n",
    "    - divide the area in half, evaluate at the midpoint, determine which half the root is in\n",
    "    - repeat until x1 and x2 are as close to each other as your tolerance\n",
    "- if initial distance between points is delta, each step distance goes down by delta/2^n, so the number of steps needed is log2(delta/tolerance)\n",
    "- log is a slowly growing function so this will not take very many steps, eveen if delta is huge and tolerance is small\n",
    "- issues:\n",
    "    - if f(x1) and f(x2) have the same sign, there might be no roots between them or multiple (even number) roots (or inflection point) and it won't be able to find it\n",
    "    - if there's an odd number of roots greater than 1, it will only find one of the roots\n",
    "    - need to have x1 and x2 actually contain the root. if it doesn't, double the range around your guess point.\n",
    "    - only works for single equation with single variable\n",
    "    - for inflection points, take the derivative and then set that equal to 0 and do the root finding"
   ]
  },
  {
   "cell_type": "markdown",
   "id": "5f0d25fa-6020-4200-8f2b-6ba8e560f76f",
   "metadata": {},
   "source": [
    "Newton's method:\n",
    "- even faster at root finding\n",
    "- need the function's derivative though\n",
    "- uses linear approximation at guess point, find root of that, use that as new guess point\n",
    "- same issue as always with multiple roots and initial guess point\n",
    "- accuracy: taylor expansion time\n",
    "- if the second derivative and first derivative are similar to each other, error decreases quadratically which is super fast\n",
    "- main issues:\n",
    "    - need derivative\n",
    "    - can have issues with convergence if the derivative at your guess point is not pointing towards your root and could end up oscillating\n",
    "    - also could have trouble if the derivative is really shallow"
   ]
  },
  {
   "cell_type": "code",
   "execution_count": 50,
   "id": "66f4ebf4-21e3-4388-a958-98649a895a63",
   "metadata": {},
   "outputs": [],
   "source": [
    "a=924\n",
    "b=-2772\n",
    "c=3150\n",
    "d=-1680\n",
    "e=420\n",
    "f=-42\n",
    "g=1"
   ]
  },
  {
   "cell_type": "code",
   "execution_count": 52,
   "id": "6dad5ec5-6b5c-4a0d-8576-d87bebb9fddc",
   "metadata": {},
   "outputs": [],
   "source": [
    "def P(x):\n",
    "    a=924\n",
    "    b=-2772\n",
    "    c=3150\n",
    "    d=-1680\n",
    "    e=420\n",
    "    f=-42\n",
    "    g=1\n",
    "    return a*x**6+b*x**5+c*x**4+d*x**3+e*x**2+f*x+g"
   ]
  },
  {
   "cell_type": "code",
   "execution_count": 54,
   "id": "ce29c1b1-a7fc-4bcc-a7ea-d40101ddf455",
   "metadata": {},
   "outputs": [],
   "source": [
    "Xs=np.linspace(0,1,1000)"
   ]
  },
  {
   "cell_type": "code",
   "execution_count": 56,
   "id": "fdfc0316-71e0-412e-a8ea-b92f83660f15",
   "metadata": {},
   "outputs": [],
   "source": [
    "Pvec=np.vectorize(P)"
   ]
  },
  {
   "cell_type": "code",
   "execution_count": 58,
   "id": "3c2a65d2-97b3-4a47-aea1-5694176a0363",
   "metadata": {},
   "outputs": [],
   "source": [
    "Ys=Pvec(Xs)"
   ]
  },
  {
   "cell_type": "code",
   "execution_count": 60,
   "id": "dfdcb0b1-19cc-46f6-bbbc-770f5207ee7e",
   "metadata": {},
   "outputs": [
    {
     "data": {
      "text/plain": [
       "[<matplotlib.lines.Line2D at 0x119c42480>]"
      ]
     },
     "execution_count": 60,
     "metadata": {},
     "output_type": "execute_result"
    },
    {
     "data": {
      "image/png": "[encoded data removed]",
      "text/plain": [
       "<Figure size 640x480 with 1 Axes>"
      ]
     },
     "metadata": {},
     "output_type": "display_data"
    }
   ],
   "source": [
    "plt.plot(Xs,Ys)"
   ]
  },
  {
   "cell_type": "code",
   "execution_count": 62,
   "id": "0d429fae-990b-47ca-94cb-4125ff67cac7",
   "metadata": {},
   "outputs": [],
   "source": [
    "guesses=[0.05,0.2,0.4,0.6,0.8,0.95]"
   ]
  },
  {
   "cell_type": "code",
   "execution_count": 64,
   "id": "1f0c9d11-d1bd-439b-9912-f3cf5e4d2de5",
   "metadata": {},
   "outputs": [],
   "source": [
    "def Pprime(x):\n",
    "    a=924\n",
    "    b=-2772\n",
    "    c=3150\n",
    "    d=-1680\n",
    "    e=420\n",
    "    f=-42\n",
    "    return a*6*x**5+b*5*x**4+c*4*x**3+d*3*x**2+e*2*x+f"
   ]
  },
  {
   "cell_type": "code",
   "execution_count": 78,
   "id": "dd172e3d-62a3-4947-ad5e-94e6192910fd",
   "metadata": {},
   "outputs": [],
   "source": [
    "def Newton(f,fprime,x1,tol=10**-10):\n",
    "    maxits=100000\n",
    "    its=0\n",
    "    x2=x1-f(x1)/fprime(x1)\n",
    "    while abs(x1-x2)>tol:\n",
    "        its+=1\n",
    "        x1=x2\n",
    "        x2=x1-f(x1)/fprime(x1)\n",
    "        if its>maxits:\n",
    "            print(f\"Did not converge after 100000 iterations.\")\n",
    "            return\n",
    "    return x2"
   ]
  },
  {
   "cell_type": "code",
   "execution_count": 80,
   "id": "e5fc5e22-7adf-4338-bf20-49551ad16b68",
   "metadata": {},
   "outputs": [],
   "source": [
    "Newton_vec=np.vectorize(Newton)"
   ]
  },
  {
   "cell_type": "code",
   "execution_count": 82,
   "id": "36ef89c4-a572-4bc4-9a73-769efbd8a338",
   "metadata": {},
   "outputs": [],
   "source": [
    "roots=Newton_vec(P,Pprime,x1=guesses)"
   ]
  },
  {
   "cell_type": "code",
   "execution_count": 84,
   "id": "4768eef6-e56b-4db7-856a-40122fdf2c73",
   "metadata": {},
   "outputs": [
    {
     "data": {
      "text/plain": [
       "array([0.03376524, 0.16939531, 0.38069041, 0.61930959, 0.83060469,\n",
       "       0.96623476])"
      ]
     },
     "execution_count": 84,
     "metadata": {},
     "output_type": "execute_result"
    }
   ],
   "source": [
    "roots"
   ]
  },
  {
   "cell_type": "code",
   "execution_count": 88,
   "id": "2b8a22c0-af38-4c97-9c04-355f8c669f56",
   "metadata": {},
   "outputs": [
    {
     "data": {
      "image/png": "[encoded data removed]",
      "text/plain": [
       "<Figure size 640x480 with 1 Axes>"
      ]
     },
     "metadata": {},
     "output_type": "display_data"
    }
   ],
   "source": [
    "plt.plot(Xs,Ys)\n",
    "plt.scatter(roots,np.zeros(6),color='deeppink')\n",
    "plt.show()"
   ]
  },
  {
   "cell_type": "markdown",
   "id": "681bfc60-5168-489e-98d6-82a5dbac1585",
   "metadata": {},
   "source": [
    "Secant method:\n",
    "- similar to Newton's method but don't need the analytic derivative\n",
    "- just approximate the derivative at the guess point with rise/run for a small range around the guess point\n",
    "- then iterate the same way"
   ]
  },
  {
   "cell_type": "markdown",
   "id": "42f65ae8-90ba-4a0e-a642-e5d5b2bcc87c",
   "metadata": {},
   "source": [
    "Newton's method for two or more variables:\n",
    "- similar concept but now we have the gradient matrix instead and then we're doing some fun linear algebra\n",
    "- see slides for details"
   ]
  },
  {
   "cell_type": "markdown",
   "id": "20611c20-e857-4461-a3eb-5b419d4d2461",
   "metadata": {},
   "source": [
    "Maxima and minima:\n",
    "- take derivative of function and then find the roots of that"
   ]
  },
  {
   "cell_type": "code",
   "execution_count": null,
   "id": "56a2e171-65db-47a4-80db-0f889a5ccf75",
   "metadata": {},
   "outputs": [],
   "source": []
  }
 ],
 "metadata": {
  "kernelspec": {
   "display_name": "Python [conda env:base] *",
   "language": "python",
   "name": "conda-base-py"
  },
  "language_info": {
   "codemirror_mode": {
    "name": "ipython",
    "version": 3
   },
   "file_extension": ".py",
   "mimetype": "text/x-python",
   "name": "python",
   "nbconvert_exporter": "python",
   "pygments_lexer": "ipython3",
   "version": "3.12.2"
  }
 },
 "nbformat": 4,
 "nbformat_minor": 5
}
