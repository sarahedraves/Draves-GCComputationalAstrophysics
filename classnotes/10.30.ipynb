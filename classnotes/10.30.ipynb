{
 "cells": [
  {
   "cell_type": "code",
   "execution_count": 3,
   "id": "6d7a157c-a038-4d78-90e0-5caf650fefc0",
   "metadata": {},
   "outputs": [],
   "source": [
    "import plotly.express as px\n",
    "import plotly.graph_objects as go\n",
    "import numpy as np\n",
    "import pandas as pd"
   ]
  },
  {
   "cell_type": "markdown",
   "id": "0adb7e7d-2943-4521-b6fa-12412df04c17",
   "metadata": {},
   "source": [
    "Visualizations:\n",
    "- matplotlib is good for static 2D images like for posters and papers\n",
    "- other packages are good for other contexts, like interactive, web graphics, etc\n",
    "- seaborn (basically matplotlib wrapper), plotly (express is similar level to seaborn and graph_objects is more flexible), bokeh (similar to plotly), graphviz (good for making flowcharts)\n",
    "- cool plotly features:\n",
    "    - hover (similar to Tableau tooltip)\n",
    "    - zoom, pan, reset\n",
    "    - save png\n",
    "    - the native writing is to an html file\n",
    "    - very useful when you are exploring a data file since you can see which points are which\n",
    "    - can create templates for plots\n",
    "    - can create animated plots easily that are still interactive\n",
    "    - formatting settings are generally kept in dictionaries"
   ]
  },
  {
   "cell_type": "markdown",
   "id": "13170ee8-2da2-4612-bece-059c6728eb66",
   "metadata": {},
   "source": [
    "Different project idea:\n",
    "- three body problem book - three stars of similar size and one planet\n",
    "- different starting conditions for the system\n",
    "- look at conditions that would damage the civilization on the planet - planet gets too close to a sun (heat or actually plunged in), spun out into space, ripped apart by gravity\n",
    "- look at how precision of initial measurements (so random measurement error) affects predictions of what will happen to the planet\n",
    "- could try different solvers\n",
    "- start with just points in 2D, then 3D, then making them spherical bodies, then add in stuff like goldilocks zone, etc\n",
    "- basically imagining i am the little alien guy trying to predict what will happen to my planet and put error bounds on my estimate of what will happen based on the precision of my initial measurements"
   ]
  },
  {
   "cell_type": "markdown",
   "id": "3526a57b-ef0b-4cdb-8a77-baff1311de3a",
   "metadata": {},
   "source": [
    "More ODE methods - modified midpoint method:\n",
    "- advantage of leapfrog is that the total error after summing all steps is an even function of the step size h\n",
    "- so it is time symmetric so going forward and then doing the same step back should have the same error with the opposite sign\n",
    "- the issue is that the first step taken using Euler's method doesn't keep the symmetry\n",
    "- this method fixes that issue - see slides for implementation"
   ]
  },
  {
   "cell_type": "markdown",
   "id": "8b99c07b-e113-416f-9739-35131d1d0a1f",
   "metadata": {},
   "source": [
    "Burlisch-Stoer method:\n",
    "- now can combine the modified midpoint with richardson extrapolation\n",
    "- we did this with the integration with the Romberg method\n",
    "- continue doubling number of points used, each step calculating the error and using the error to correct the estimation of the final point\n",
    "- this is super powerful with fewer steps\n",
    "- more of pain to code up but there are already implementations of it\n",
    "- also can divide the domain up into different intervals and apply the method in each interval so that we aren't using more steps than is necessary in each region\n",
    "- this only works if the error converges fairly quickly each step\n",
    "- choosing the interval size is important"
   ]
  },
  {
   "cell_type": "markdown",
   "id": "1d92129d-eacb-44dd-bcb5-dbc9c419ba0c",
   "metadata": {},
   "source": [
    "Stiff ODEs:\n",
    "- ODEs where a small difference in time step size quickly causes the solution to deviate from the correct solution are called stiff\n",
    "- this can happen if there are different natural time scales (multiple different dependencies on the independent variable) in the ODE since it could miss the smaller one\n",
    "- alternate method: implicit solvers\n",
    "    - ex: backwards Euler's\n",
    "    - much harder to code\n",
    "    - need to be able to invert the equation either numerically or analytically\n",
    "    - with systems of equations, the inversion becomes more difficult"
   ]
  },
  {
   "cell_type": "markdown",
   "id": "2398881e-044e-4f66-ad33-ebd2d81785ed",
   "metadata": {},
   "source": [
    "Boundary value problems:\n",
    "- harder than initial value problems because we don't know where to start our solver and it needs to get to a certain point in the future\n",
    "- shooting method: pick random ICs and see if it matches the boundary conditions and then re-choose the ICs based on that\n",
    "    - basically get the a function that gives the value of the equation at time t based on the ICs\n",
    "    - then could find the roots of that equation (or when that equation equals x) using our root finder methods\n",
    "- relaxation method: this is more common for PDEs"
   ]
  },
  {
   "cell_type": "markdown",
   "id": "0a3e9a90-c9ed-463c-b16f-959b175b0277",
   "metadata": {},
   "source": [
    "Eigenvalue problems:\n",
    "- special type of boundary value problem where the ODEs are linear and homogeneous\n",
    "- shooting method won't work because not all the possible guesses are actual possible values for the eigenvalues\n",
    "- doesn't come up really in astrophysics but it is an issue for quantum"
   ]
  },
  {
   "cell_type": "code",
   "execution_count": null,
   "id": "f9f382b0-e768-4c44-a277-3002f7bd6973",
   "metadata": {},
   "outputs": [],
   "source": []
  }
 ],
 "metadata": {
  "kernelspec": {
   "display_name": "Python [conda env:base] *",
   "language": "python",
   "name": "conda-base-py"
  },
  "language_info": {
   "codemirror_mode": {
    "name": "ipython",
    "version": 3
   },
   "file_extension": ".py",
   "mimetype": "text/x-python",
   "name": "python",
   "nbconvert_exporter": "python",
   "pygments_lexer": "ipython3",
   "version": "3.12.2"
  }
 },
 "nbformat": 4,
 "nbformat_minor": 5
}
