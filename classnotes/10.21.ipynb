{
 "cells": [
  {
   "cell_type": "markdown",
   "id": "16fd1d20-f5e5-4de5-aae6-7d0f62da2eb5",
   "metadata": {},
   "source": [
    "Homework 4 feedback:\n",
    "- the linear interpolation was just to figure out which points were missing within a single TESS Sector and fill them in (I understood that I just chose not to do that)"
   ]
  },
  {
   "cell_type": "markdown",
   "id": "9c13a8fd-1fd7-45c1-80e7-bdd435aef88b",
   "metadata": {},
   "source": [
    "Returning to Monte Carlo methods:\n",
    "- importance sampling is relevant to things other than monte carlo integration\n",
    "- useful for statistical mechanics because that is always looking at random processes where we can't look at what the actual molecules are up to\n",
    "- consider calculating the average value of a quantity in a physical system in thermal equilibrium using the Boltzmann distribution\n",
    "- sometimes can calculating the sum exactly but often not, especially when there are lots of molecules, so need approximations\n",
    "- just evaluate a random sample of the states. but the sample can't be uniformly random, because the Boltzmann distribution is an exponential distribution, so need to do importance sampling\n",
    "- need to define a weighted average - all the formulas are on the slides\n",
    "- for the final problem, there is one sum still over all the states for the weights, so ideally we want to do that one analytically\n",
    "- if we normalize the weights, then the sum of all the weights is equal to one, so that makes it easier\n",
    "- can think of this approach instead as monte carlo being the behavior of the actual system\n",
    "- physical system starts in an initial state, then moves to a new state with the probability from the Boltzmann distribution, and then keep changing states according to that probability distribution\n",
    "- then measure the desired quantity for the system in each state and average it\n",
    "- both ways of thinking about it involve the same calculations, but the second makes a little more sense\n",
    "- to calculate P(E_i), we have to evaluate the exponential, which is easy, but also the sum of states Z (the partition function)\n",
    "- this is not easy to do, so we use a technique called a Markov Chain - see slides\n",
    "- basically calculating the transition probability to the next state, and it will eventually converge to the Boltzmann distribution (proof in textbook appendix)\n",
    "- most common way to calculate the transition probabilities is the Metropolis algorithm. there are other versions but this still converges eventually. - see slides\n",
    "- can use this basic approach in another problems\n",
    "- example: simulated annealing is used to find a global minimum for multidimensional systems (named after the problem of cooling glass, which must be done slowly)\n",
    "- just an extension of the metropolis algorithm, but need to add an initial temperature and a cooling schedule, which is commonly exponential\n",
    "- common ex: traveling salesman - looking for the shortest path between N spots. the direct approach (of calculating all of the possible routes and comparing) scales as N! which is horrible.\n",
    "- Markov chain approach: start with an initial order of cities, switch two of them, and see if the total distance becomes shorter or longer, but don't reject if longer because we might be in a local minimum\n",
    "- not guaranteed to get the global minimum but generally close enough\n",
    "- so Monte Carlo can be used for integration, simulation, optimization, error propagation, etc"
   ]
  },
  {
   "cell_type": "markdown",
   "id": "e39cf060-0e2d-40a8-9c31-bc778b914c36",
   "metadata": {},
   "source": [
    "Ordinary differential equations:\n",
    "- one of the main uses of computational methods because most of them can't be solved analytically (especially nonlinear equations)\n",
    "- boundary conditions are an essential part of the problem, unlike when solving them analytically where they are only used to narrow down the constants after\n",
    "- Euler's method: just take a step forward using the current variable values and the derivative from the ODE, then repeat\n",
    "- prefer Runge-Kutta, where we are just doing a higher order approximation of each step"
   ]
  },
  {
   "cell_type": "code",
   "execution_count": null,
   "id": "19abd029-1151-495e-b4c9-fd1a73f38053",
   "metadata": {},
   "outputs": [],
   "source": []
  }
 ],
 "metadata": {
  "kernelspec": {
   "display_name": "Python [conda env:base] *",
   "language": "python",
   "name": "conda-base-py"
  },
  "language_info": {
   "codemirror_mode": {
    "name": "ipython",
    "version": 3
   },
   "file_extension": ".py",
   "mimetype": "text/x-python",
   "name": "python",
   "nbconvert_exporter": "python",
   "pygments_lexer": "ipython3",
   "version": "3.12.2"
  }
 },
 "nbformat": 4,
 "nbformat_minor": 5
}
