{
 "cells": [
  {
   "cell_type": "markdown",
   "id": "7da7a280-ff06-4f44-a4da-053d062bdb1e",
   "metadata": {},
   "source": [
    "Reviewing homework 5:\n",
    "- it is not actually possible to simulate a photon's path to escape the sun. like no computer on earth can do that many scatters.\n",
    "- this is useful though because in research you have to figure out yourself if something is possible or not\n",
    "- for sampling in the sphere, if you are sampling both theta and phi, the likely theta angles from 0 to pi change as you get closer to the poles\n",
    "- could speed up the code a bit realizing that the mean free path changes very slowly, so could just re-estimate every million or so scatters\n",
    "- could vectorize it then since the mean free path is not changing so each step isn't dependent on the one before that\n",
    "- so this problem is actually better to solve with the diffusion equation and not monte carlo\n",
    "- before getting too far into final project, try to estimate how long it will take to do the relevant computations "
   ]
  },
  {
   "cell_type": "markdown",
   "id": "2aa69b92-5957-401b-81ad-65fe4c19c000",
   "metadata": {},
   "source": [
    "Continuing ODEs:\n",
    "- sometimes have functions where things are changing really quickly in some areas and not in other areas\n",
    "- makes sense to use a variable step size then\n",
    "- ideally the error in each step size would be about equal, rather than the step sizes being equal\n",
    "- with a fourth order accurate scheme, error goes as h^5, so when the step size is doubled, the error should be multiplied by 32 (2^5)\n",
    "- then can calculate the error difference between the larger and smaller step size and can use that to solve for what the step size should be based on the target tolerance - see slides for formula and algorithm steps\n",
    "- if the two points that you are checking are actually very close to each other, the recommended step size will be nearly infinite, so need to set an upper bound on how large h can get like not letting it increase by more than a factor of two between steps\n",
    "- gets more complicated with multiple equations - see slides\n",
    "- this would have been useful for the pendulum problem from last week"
   ]
  },
  {
   "cell_type": "markdown",
   "id": "41e24e03-06e8-4a7e-9132-ec2e167efdac",
   "metadata": {},
   "source": [
    "Other methods:\n",
    "- these are all similar concepts to Euler's method involving Taylor expansions but there are some modifications, and they are good in different scenarios\n",
    "- Leapfrog Method\n",
    "    - making estimates at one step, then go back to the midpoint, then forward to the next midpoint, then back to the other point\n",
    "    - see slides for nice illustration in comparison to RK2\n",
    "    - can be extended to higher order derivatives and multiple equations just like RK\n",
    "    - this is useful because it is symmetric, so if time is reversed you will get back to the same value to a rounding error\n",
    "    - useful when energy conservation is important in a periodic system\n",
    "    - energy still varies, but if you go a full period you end up back with the same energy, so this prevents drift over many periods\n",
    "- Verlet Method\n",
    "    - a leapfrog based simplification of equations of motion in the form d^2x/dt^2=f(x,t)\n",
    "    - this works as long as force does not depend on velocity\n",
    "    - basically calculating x on the main time steps and v on the half time steps\n",
    "    - need to do some extra calculations to get x and v at the same time step\n",
    "    - can extended it to multiple spatial dimensions"
   ]
  },
  {
   "cell_type": "code",
   "execution_count": 91,
   "id": "896da520-ad9f-4b46-b9f4-a8f3fb897f52",
   "metadata": {},
   "outputs": [],
   "source": [
    "import numpy as np\n",
    "import matplotlib.pyplot as plt"
   ]
  },
  {
   "cell_type": "code",
   "execution_count": 125,
   "id": "3100e5f5-04f7-420d-b796-e1c3a2bb9048",
   "metadata": {},
   "outputs": [],
   "source": [
    "def f(r,t): #where r is the vector (x,y,vx,vy)\n",
    "    x=r[0]\n",
    "    y=r[1]\n",
    "    vx=r[2]\n",
    "    vy=r[3]\n",
    "    R=(x**2+y**2)**0.5\n",
    "    return np.array([vx,vy,-G*M*x/(R**3),-G*M*y/(R**3)],float)"
   ]
  },
  {
   "cell_type": "code",
   "execution_count": 105,
   "id": "efe861b5-10c5-485d-823f-294256d4536b",
   "metadata": {},
   "outputs": [],
   "source": [
    "G=6.6738e-11\n",
    "M=1.9891e30\n",
    "x0=-1.471e11\n",
    "y0=0\n",
    "vx0=0\n",
    "vy0=3.0287e4 \n",
    "h=60*60*24 #1hr in seconds\n",
    "YR=3.154e7 #approximate seconds in a year\n",
    "Ts=np.arange(0,3*YR,h)"
   ]
  },
  {
   "cell_type": "code",
   "execution_count": 107,
   "id": "cb10d244-d717-4514-8e4b-ca573cb6d12f",
   "metadata": {},
   "outputs": [],
   "source": [
    "#create arrays for Xs and Vs\n",
    "Rs=np.zeros((Ts.size,4))\n",
    "Rs[0,0]=x0\n",
    "Rs[0,1]=y0\n",
    "Rs[0,2]=vx0\n",
    "Rs[0,3]=vy0"
   ]
  },
  {
   "cell_type": "code",
   "execution_count": 127,
   "id": "eadf5284-8c1f-44d6-a03c-30732cc9afa6",
   "metadata": {},
   "outputs": [],
   "source": [
    "#doing RK4 method first\n",
    "for i, t in enumerate(Ts[1:],start=1): #start at second point\n",
    "    k1=h*f(Rs[i-1],t)\n",
    "    k2=h*f(Rs[i-1]+0.5*k1,t+0.5*h)\n",
    "    k3=h*f(Rs[i-1]+0.5*k2,t+0.5*h)\n",
    "    k4=h*f(Rs[i-1]+k3,t+h)\n",
    "    Rs[i]=Rs[i-1]+(1/6)*(k1+2*k2+2*k3+k4) "
   ]
  },
  {
   "cell_type": "code",
   "execution_count": 129,
   "id": "cc224ec5-87b4-4bd1-ab61-8a6654f0149f",
   "metadata": {},
   "outputs": [
    {
     "data": {
      "text/plain": [
       "[<matplotlib.lines.Line2D at 0x153284830>]"
      ]
     },
     "execution_count": 129,
     "metadata": {},
     "output_type": "execute_result"
    },
    {
     "data": {
      "image/png": "[encoded data removed]",
      "text/plain": [
       "<Figure size 640x480 with 1 Axes>"
      ]
     },
     "metadata": {},
     "output_type": "display_data"
    }
   ],
   "source": [
    "plt.plot(Rs[:,0],Rs[:,1])"
   ]
  },
  {
   "cell_type": "code",
   "execution_count": null,
   "id": "de493970-9a57-4286-9823-3c6a7d56e302",
   "metadata": {},
   "outputs": [],
   "source": []
  }
 ],
 "metadata": {
  "kernelspec": {
   "display_name": "Python [conda env:base] *",
   "language": "python",
   "name": "conda-base-py"
  },
  "language_info": {
   "codemirror_mode": {
    "name": "ipython",
    "version": 3
   },
   "file_extension": ".py",
   "mimetype": "text/x-python",
   "name": "python",
   "nbconvert_exporter": "python",
   "pygments_lexer": "ipython3",
   "version": "3.12.2"
  }
 },
 "nbformat": 4,
 "nbformat_minor": 5
}
