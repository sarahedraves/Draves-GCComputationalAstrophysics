{
 "cells": [
  {
   "cell_type": "markdown",
   "id": "ae303ce6-dbb6-4e62-9796-d67c25605a2a",
   "metadata": {},
   "source": [
    "Accuracy and speed:\n",
    "- in math, stuff can be 100% accurate, but for calculating with computers we have accuracy (how close something is to the analytical answer or a more accurate calculation) limitations\n",
    "- we also have to think about speed\n",
    "    - when things take only a few seconds it doesn't really matter (in this setting) but for a long simulation something like 3 vs 6 months is a huge deal\n",
    "- there are often tradeoffs between accuracy and speed\n",
    "- figuring out how accurate something is is non trivial because we don't know the \"correct\" answer\n",
    "- machine precision - floats are stored using a fixed number of bits\n",
    "    - 32 bit/single precision:\n",
    "        - 1 bit sign, 8 bits exponent, 24 bits (23 stored) significand\n",
    "        - range of 2^7 -1 in exponent so about 10^38\n",
    "        - precision of 6 significant digits\n",
    "        - good enough for most real world applications (finance etc)\n",
    "    - 64 bit/double precision:\n",
    "        - 1 bit sign, 11 bits exponent, 53 bits (52 stored) significand\n",
    "        - range of 2^10 -1 in exponent so about 10^308\n",
    "        - precision of 15 significant digits\n",
    "        - better for astrophysical applications\n",
    "        - standard python floats now\n",
    "    - most chips are 64 bit now so it can use doubles much more efficiently\n",
    "    - can use even higher precision but efficiency will be reduced "
   ]
  },
  {
   "cell_type": "code",
   "execution_count": 7,
   "id": "7c16a6e0-3fa6-4da6-8c18-0ecb58d16d3c",
   "metadata": {},
   "outputs": [
    {
     "name": "stdout",
     "output_type": "stream",
     "text": [
      "2.220446049250313e-16\n"
     ]
    }
   ],
   "source": [
    "x=1.0\n",
    "eps=1.0\n",
    "while not x+eps==x: #this will be true once eps is smaller than the machine precision\n",
    "    eps=0.5*eps\n",
    "print(2*eps)"
   ]
  },
  {
   "cell_type": "markdown",
   "id": "cd966ae7-21ec-4196-8b42-b5c4861dca95",
   "metadata": {},
   "source": [
    "- machine precision cont:\n",
    "    - can see that once you go past 10^-15 it's effectively zero\n",
    "- overflow error:\n",
    "    - if python gets to a number greater than 10^308 it will set it to infinity"
   ]
  },
  {
   "cell_type": "code",
   "execution_count": 20,
   "id": "d227e4c3-93cc-4f1a-b108-60d020636458",
   "metadata": {},
   "outputs": [
    {
     "data": {
      "text/plain": [
       "1e+308"
      ]
     },
     "execution_count": 20,
     "metadata": {},
     "output_type": "execute_result"
    }
   ],
   "source": [
    "1e308"
   ]
  },
  {
   "cell_type": "code",
   "execution_count": 22,
   "id": "ccafca07-fcc3-4944-a896-861181058f29",
   "metadata": {},
   "outputs": [
    {
     "data": {
      "text/plain": [
       "inf"
      ]
     },
     "execution_count": 22,
     "metadata": {},
     "output_type": "execute_result"
    }
   ],
   "source": [
    "10*1e308"
   ]
  },
  {
   "cell_type": "markdown",
   "id": "c11a5bb2-f190-44d9-871a-dcd071f8074c",
   "metadata": {},
   "source": [
    "- underflow error:\n",
    "    - past the smallest possible float, python will just set it to 0.0\n",
    "- rounding/accuracy error:\n",
    "    - don't ever check if floats are exactly equal, instead check within an error\n",
    "    - ex: (abs(x-2.50) < eps)\n",
    "    - behaves much likes a measurement error in a physics lab where it can compound with more values\n",
    "    - sigma^2=sqrt(sigma1^2+sigma2^2)"
   ]
  },
  {
   "cell_type": "code",
   "execution_count": 29,
   "id": "06212369-b65e-444d-9456-7d5382703d18",
   "metadata": {},
   "outputs": [
    {
     "name": "stdout",
     "output_type": "stream",
     "text": [
      "<class 'float'>\n",
      "        0.10000000000000000555\n"
     ]
    }
   ],
   "source": [
    "b=0.1 #this cannot be represented exactly in binary\n",
    "print(type(b))\n",
    "print(\"{:30.20}\".format(b)) #this is how it's actually storing it"
   ]
  },
  {
   "cell_type": "code",
   "execution_count": 31,
   "id": "c2833f58-ac11-47b6-b4e8-494dfdeb5e93",
   "metadata": {},
   "outputs": [
    {
     "data": {
      "text/plain": [
       "sys.float_info(max=1.7976931348623157e+308, max_exp=1024, max_10_exp=308, min=2.2250738585072014e-308, min_exp=-1021, min_10_exp=-307, dig=15, mant_dig=53, epsilon=2.220446049250313e-16, radix=2, rounds=1)"
      ]
     },
     "execution_count": 31,
     "metadata": {},
     "output_type": "execute_result"
    }
   ],
   "source": [
    "import sys\n",
    "sys.float_info"
   ]
  },
  {
   "cell_type": "markdown",
   "id": "85b36dfd-16f5-49b9-8a6f-49ea7586e5c1",
   "metadata": {},
   "source": [
    "- rounding error cont:\n",
    "    - consider the error to be a random number with standard deviation sigma=Cx, where C is called the error constant and is 10^-16 in python\n",
    "    - then if we perform N summations the error would be (see slides)"
   ]
  },
  {
   "cell_type": "code",
   "execution_count": 37,
   "id": "0638e78d-b408-42b5-8165-c4f7b982368d",
   "metadata": {},
   "outputs": [
    {
     "name": "stdout",
     "output_type": "stream",
     "text": [
      "1.4210854715202004\n",
      "1.4142135623730951\n"
     ]
    }
   ],
   "source": [
    "x=1\n",
    "y=1+(10**-14)*(2**0.5)\n",
    "print(1e14*(y-x)) #mathematically this should give sqrt(2) but the subtraction is between numbers that are too close together\n",
    "#to give an accurate difference between them\n",
    "print(2**0.5)"
   ]
  },
  {
   "cell_type": "markdown",
   "id": "74b7765c-9a23-4301-aaa1-832c3c23c599",
   "metadata": {},
   "source": [
    "- subtraction error:\n",
    "    - if x=1000000000000000 and y=1000000000000001.25, y-x should be 1.25 but it will give 1\n",
    "    - see slides for example of series involving addition and subtraction giving a huge error and how to handle it\n",
    "    - ex: calculating the volume of a shell\n",
    "        - uses the formula V=(4/3)*pi*(r1^3-r2^3) but this can cause problems because it involves the cancelation of two really big numbers\n",
    "        - instead can rewrite the formula as V=(4/3)*pi*(r1-r2)*(r1^2+r1r2+r2^2) because then the subtraction is between smaller numbers"
   ]
  },
  {
   "cell_type": "code",
   "execution_count": 41,
   "id": "14b8d4e8-0774-45d9-b92d-895bc53c5962",
   "metadata": {},
   "outputs": [],
   "source": [
    "def quadraticformula(a,b,c):\n",
    "    discriminant=b**2-4*a*c\n",
    "    soln1=(-b+discriminant**0.5)/(2*a)\n",
    "    soln2=(-b-discriminant**0.5)/(2*a)\n",
    "    print(f'Solution 1: {soln1}, Solution 2: {soln2}')"
   ]
  },
  {
   "cell_type": "code",
   "execution_count": 43,
   "id": "a8a02980-eb9f-43d3-a68e-9a19a25ad6b3",
   "metadata": {},
   "outputs": [
    {
     "name": "stdout",
     "output_type": "stream",
     "text": [
      "Solution 1: -9.999894245993346e-07, Solution 2: -999999.999999\n"
     ]
    }
   ],
   "source": [
    "quadraticformula(0.001,1000,0.001)"
   ]
  },
  {
   "cell_type": "code",
   "execution_count": 49,
   "id": "ac2b34cb-521a-40a4-a272-af3f0f754c77",
   "metadata": {},
   "outputs": [],
   "source": [
    "def quadraticformula2(a,b,c):\n",
    "    discriminant=b**2-4*a*c\n",
    "    soln1=(2*c)/(-b-discriminant**0.5)\n",
    "    soln2=(2*c)/(-b+discriminant**0.5)\n",
    "    print(f'Solution 1: {soln1}, Solution 2: {soln2}')"
   ]
  },
  {
   "cell_type": "code",
   "execution_count": 51,
   "id": "73cfbdd9-9060-41f1-b3ab-f1e08924de2d",
   "metadata": {},
   "outputs": [
    {
     "name": "stdout",
     "output_type": "stream",
     "text": [
      "Solution 1: -1.000000000001e-06, Solution 2: -1000010.5755125057\n"
     ]
    }
   ],
   "source": [
    "quadraticformula2(0.001,1000,0.001)"
   ]
  },
  {
   "cell_type": "markdown",
   "id": "22c174f3-de2a-4028-ba14-e59722780976",
   "metadata": {},
   "source": [
    "- speed: computers do not have infinite memory or speed\n",
    "    - 1 million calculations takes about 1 second\n",
    "    - 1 billion calculations takes about 20 minutes\n",
    "    - 1 trillion calculations takes about 300 hours/12 days\n",
    "    - often increasing the number of calculations does not increase the accuracy (eg, once you get past the smallest storable number with a taylor series) so don't want to do that and waste time\n",
    "    - with matrix multiplication or manipulation, the number of operations increases very rapidly with N - in practice, can't really work with matrices larger than 1000x1000"
   ]
  },
  {
   "cell_type": "markdown",
   "id": "a5007024-6c5b-468e-81c3-63125b759a93",
   "metadata": {},
   "source": [
    "exercise:\n",
    "- solve the average energy in a quantum harmonic oscillator which has energy levels E_n=hf(n+1/2)\n",
    "- average energy is given by 1/Z times the sum from 0 to infinity of E_n time e^(-beta* E_n) where Z is partition function and is the sum from 0 to infinity of e^(-beta* E_n)\n",
    "- take hf=1 and beta=0.01 and evaluate this formula using a thousand terms, then 1 million and then 1 billion"
   ]
  },
  {
   "cell_type": "code",
   "execution_count": 59,
   "id": "47612961-2c02-4cb8-a4ec-c05a396d121e",
   "metadata": {},
   "outputs": [],
   "source": [
    "import numpy as np"
   ]
  },
  {
   "cell_type": "code",
   "execution_count": 103,
   "id": "90ced31c-d48b-4192-8f3d-e02c68d1aa76",
   "metadata": {},
   "outputs": [],
   "source": [
    "def E_n(n, hf=1): #n is the current term\n",
    "    return hf*(n+1/2)"
   ]
  },
  {
   "cell_type": "code",
   "execution_count": 105,
   "id": "7ce1dbfa-1172-41ab-b33a-5a2d00f90bbc",
   "metadata": {},
   "outputs": [],
   "source": [
    "def Z(N, hf=1, beta=0.01): #N is number of terms so n=10 would go from 0 to 9\n",
    "    mysum=0\n",
    "    for n in range(0,N):\n",
    "        mysum+=np.exp(-beta*E_n(n,hf))\n",
    "    return mysum"
   ]
  },
  {
   "cell_type": "code",
   "execution_count": 107,
   "id": "bcdab429-8d57-474c-ace5-5cace8c149cc",
   "metadata": {},
   "outputs": [],
   "source": [
    "def E(N, hf=1, beta=0.01):\n",
    "    curZ=Z(N,hf,beta)\n",
    "    mysum=0\n",
    "    for n in range(0,N):\n",
    "        curE_n=E_n(n,hf)\n",
    "        mysum+=curE_n*np.exp(-beta*curE_n)\n",
    "    return (1/curZ)*mysum"
   ]
  },
  {
   "cell_type": "code",
   "execution_count": 109,
   "id": "6f9d12ee-cec5-49ed-8d77-d79299e4522c",
   "metadata": {},
   "outputs": [
    {
     "data": {
      "text/plain": [
       "4.917513884193951"
      ]
     },
     "execution_count": 109,
     "metadata": {},
     "output_type": "execute_result"
    }
   ],
   "source": [
    "E(10)"
   ]
  },
  {
   "cell_type": "code",
   "execution_count": 111,
   "id": "a2c71a27-3aba-4c26-bc58-7d682fd4f82e",
   "metadata": {},
   "outputs": [
    {
     "data": {
      "text/plain": [
       "99.95543134093475"
      ]
     },
     "execution_count": 111,
     "metadata": {},
     "output_type": "execute_result"
    }
   ],
   "source": [
    "E(1000) #much more accurate than 10 terms"
   ]
  },
  {
   "cell_type": "code",
   "execution_count": 117,
   "id": "5864a253-b21d-44e6-a3ee-9f2645b3ae15",
   "metadata": {},
   "outputs": [
    {
     "data": {
      "text/plain": [
       "100.00083333194436"
      ]
     },
     "execution_count": 117,
     "metadata": {},
     "output_type": "execute_result"
    }
   ],
   "source": [
    "E(1000000) #small but siginificant difference from 1000 terms and still very fast"
   ]
  },
  {
   "cell_type": "code",
   "execution_count": 119,
   "id": "6653863f-3433-4185-8a97-74f7473946ea",
   "metadata": {},
   "outputs": [
    {
     "ename": "KeyboardInterrupt",
     "evalue": "",
     "output_type": "error",
     "traceback": [
      "\u001b[0;31m---------------------------------------------------------------------------\u001b[0m",
      "\u001b[0;31mKeyboardInterrupt\u001b[0m                         Traceback (most recent call last)",
      "Cell \u001b[0;32mIn[119], line 1\u001b[0m\n\u001b[0;32m----> 1\u001b[0m E(\u001b[38;5;241m1000000000\u001b[39m)\n",
      "Cell \u001b[0;32mIn[107], line 6\u001b[0m, in \u001b[0;36mE\u001b[0;34m(N, hf, beta)\u001b[0m\n\u001b[1;32m      4\u001b[0m \u001b[38;5;28;01mfor\u001b[39;00m n \u001b[38;5;129;01min\u001b[39;00m \u001b[38;5;28mrange\u001b[39m(\u001b[38;5;241m0\u001b[39m,N):\n\u001b[1;32m      5\u001b[0m     curE_n\u001b[38;5;241m=\u001b[39mE_n(n,hf)\n\u001b[0;32m----> 6\u001b[0m     mysum\u001b[38;5;241m+\u001b[39m\u001b[38;5;241m=\u001b[39mcurE_n\u001b[38;5;241m*\u001b[39mnp\u001b[38;5;241m.\u001b[39mexp(\u001b[38;5;241m-\u001b[39mbeta\u001b[38;5;241m*\u001b[39mcurE_n)\n\u001b[1;32m      7\u001b[0m \u001b[38;5;28;01mreturn\u001b[39;00m (\u001b[38;5;241m1\u001b[39m\u001b[38;5;241m/\u001b[39mcurZ)\u001b[38;5;241m*\u001b[39mmysum\n",
      "\u001b[0;31mKeyboardInterrupt\u001b[0m: "
     ]
    }
   ],
   "source": [
    "E(1000000000)"
   ]
  },
  {
   "cell_type": "markdown",
   "id": "a408b12c-0ab7-4067-a54a-605ab46a7c8a",
   "metadata": {},
   "source": [
    "terminology for midterm:\n",
    "- overflow error\n",
    "- underflow error\n",
    "- roundoff error"
   ]
  },
  {
   "cell_type": "raw",
   "id": "33755bd1-9e49-4811-945e-32f98c5a78d3",
   "metadata": {},
   "source": [
    "Integration! our first application of numerical techniques\n",
    "- good application for numerical techniques because summing small things causes less error than adding\n",
    "- can't do an infinite sum but can sum many terms\n",
    "- simplest solution is a one dimensional integral over a finite range\n",
    "- can only solve definite integrals (with limits) - have to redo the integration with each set of limits instead of integrating once and plugging in different limits afterwards like with analytical integration\n",
    "- our friend rectangle rule - sum f(x_i) times delta x from i=0 to N. will converge as delta x goes to zero and N goes to infinity.\n",
    "- might as well do trapesoidal method - get better answers for the same N - since the right endpoint of one trapezoid is the left endpoint of the other trapezoid so you add half of the value of the function at that point twice and then the a and b endpoints you just add half of the value of the function at those points - see slides for full formula "
   ]
  },
  {
   "cell_type": "code",
   "execution_count": 132,
   "id": "d1dcd527-2dee-412e-8bda-5eda92909af0",
   "metadata": {},
   "outputs": [],
   "source": [
    "def f(x):\n",
    "    return x**4-2*x+1"
   ]
  },
  {
   "cell_type": "code",
   "execution_count": 134,
   "id": "2ac5fdc2-6ccd-44c8-be48-38161f18ca95",
   "metadata": {},
   "outputs": [],
   "source": [
    "def trapezoid(function, a, b, N=10):\n",
    "    deltax=(b-a)/N\n",
    "    mysum=0\n",
    "    for k in range(1,N+1):\n",
    "        mysum+=function(a+k*deltax)\n",
    "    fa=function(a)\n",
    "    fb=function(b)\n",
    "    return deltax*(0.5*fa+0.5*fb+mysum)"
   ]
  },
  {
   "cell_type": "code",
   "execution_count": 136,
   "id": "85cfdba1-1bcb-45e9-846b-e0b387ca2f82",
   "metadata": {},
   "outputs": [
    {
     "data": {
      "text/plain": [
       "7.106560000000001"
      ]
     },
     "execution_count": 136,
     "metadata": {},
     "output_type": "execute_result"
    }
   ],
   "source": [
    "trapezoid(f,0,2)"
   ]
  },
  {
   "cell_type": "code",
   "execution_count": 138,
   "id": "47875800-f782-46bb-a00c-78abc0c17b38",
   "metadata": {},
   "outputs": [
    {
     "data": {
      "text/plain": [
       "4.661066656000001"
      ]
     },
     "execution_count": 138,
     "metadata": {},
     "output_type": "execute_result"
    }
   ],
   "source": [
    "trapezoid(f,0,2,N=100)"
   ]
  },
  {
   "cell_type": "code",
   "execution_count": 140,
   "id": "0365bc92-53e9-4642-91a5-1c5071e50ec6",
   "metadata": {},
   "outputs": [
    {
     "data": {
      "text/plain": [
       "4.4260106666656"
      ]
     },
     "execution_count": 140,
     "metadata": {},
     "output_type": "execute_result"
    }
   ],
   "source": [
    "trapezoid(f,0,2,N=1000)"
   ]
  },
  {
   "cell_type": "code",
   "execution_count": 142,
   "id": "fee6ad3b-a33a-4e3b-a805-aa41e91b987c",
   "metadata": {},
   "outputs": [
    {
     "data": {
      "text/plain": [
       "4.400260001066633"
      ]
     },
     "execution_count": 142,
     "metadata": {},
     "output_type": "execute_result"
    }
   ],
   "source": [
    "trapezoid(f,0,2,N=100000)"
   ]
  },
  {
   "cell_type": "code",
   "execution_count": null,
   "id": "ad2bed21-76ac-419f-9e3b-747975328f26",
   "metadata": {},
   "outputs": [],
   "source": []
  }
 ],
 "metadata": {
  "kernelspec": {
   "display_name": "Python [conda env:base] *",
   "language": "python",
   "name": "conda-base-py"
  },
  "language_info": {
   "codemirror_mode": {
    "name": "ipython",
    "version": 3
   },
   "file_extension": ".py",
   "mimetype": "text/x-python",
   "name": "python",
   "nbconvert_exporter": "python",
   "pygments_lexer": "ipython3",
   "version": "3.12.2"
  }
 },
 "nbformat": 4,
 "nbformat_minor": 5
}
