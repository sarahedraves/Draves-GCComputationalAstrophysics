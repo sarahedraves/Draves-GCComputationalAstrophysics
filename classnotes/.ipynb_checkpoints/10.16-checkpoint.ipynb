{
 "cells": [
  {
   "cell_type": "markdown",
   "id": "a4bfa3c6-d31f-4c43-8485-e9a4ef31bd08",
   "metadata": {},
   "source": [
    "How to time your code:\n",
    "- also known as profiling\n",
    "- most basic version is just using the time package\n",
    "- timeit is for checking how long a single code snippet takes by running it one million times and averaging it. can specify number of times it runs with number parameter\n",
    "- cProfile package records lots of info about how your code ran but this is overkill here\n",
    "- tqdm gives you a status bar if you want to know how far through a loop you are as it's running"
   ]
  },
  {
   "cell_type": "code",
   "execution_count": 2,
   "id": "2cedf3fe-2b9b-4c98-bce0-907d88e7eb6a",
   "metadata": {},
   "outputs": [
    {
     "name": "stdout",
     "output_type": "stream",
     "text": [
      "1.0013580322265625e-05\n"
     ]
    }
   ],
   "source": [
    "import time\n",
    "start=time.time()\n",
    "#the program\n",
    "end=time.time()\n",
    "total=end-start\n",
    "print(total)"
   ]
  },
  {
   "cell_type": "code",
   "execution_count": 3,
   "id": "1555ff42-3527-4efc-83f3-c17adb4ae851",
   "metadata": {},
   "outputs": [
    {
     "name": "stdout",
     "output_type": "stream",
     "text": [
      "0.0034801250003511086\n",
      "0.06217787499917904\n"
     ]
    }
   ],
   "source": [
    "import timeit\n",
    "print(timeit.timeit('5+5/3'))\n",
    "print(timeit.timeit('5+5/math.sqrt(3)','import math')) #runs the lines in reverse order"
   ]
  },
  {
   "cell_type": "markdown",
   "id": "33c40cf9-1886-4e3c-8d65-4a39b1402a87",
   "metadata": {},
   "source": [
    "Monte Carlo in many dimensions:\n",
    "- this is the main use of monte carlo integration\n",
    "- generalize the mean value method\n",
    "- I is approximately V/N times the sum from 1 to N of f(r_i) where r_i is a vector that is chosen randomly from the volume to be integrated over\n",
    "- importance sampling\n",
    "    - when you choose your random number, your randomness doesn't have to be a uniform distribution\n",
    "    - something like a point near a place where the function becomes infinite would cause a lot of variation\n",
    "    - draw our x points non uniformly from the integration interval\n",
    "    - basically doing a weighted average over the interval\n",
    "    - the weighted average can be written as a probability also\n",
    "    - the x's have to be chosen from that new probability distribution, which we can do with the transformation method\n",
    "    - we choose the weighting to remove the weird behavior or concentrate on the weird behavior, depending on what is preferred\n",
    "    - see slides for specific details"
   ]
  },
  {
   "cell_type": "code",
   "execution_count": 5,
   "id": "8d58325a-3fa6-47ee-9be3-c7df6f177685",
   "metadata": {},
   "outputs": [],
   "source": [
    "import numpy as np"
   ]
  },
  {
   "cell_type": "code",
   "execution_count": 6,
   "id": "f14cf842-3d8b-4fc2-b1ef-8721a5be1fd0",
   "metadata": {},
   "outputs": [],
   "source": [
    "def f(Xs):\n",
    "    mysum=np.sum(Xs**2)\n",
    "    if mysum<=1:\n",
    "        return 1\n",
    "    else:\n",
    "        return 0"
   ]
  },
  {
   "cell_type": "code",
   "execution_count": 7,
   "id": "ac588a67-362b-4cc0-a0ac-baa2293545e7",
   "metadata": {},
   "outputs": [],
   "source": [
    "D=10\n",
    "r=1\n",
    "N=10000\n",
    "V=(2*r)**D"
   ]
  },
  {
   "cell_type": "code",
   "execution_count": 8,
   "id": "8a2f07fa-c952-4f13-b9b8-3b4acb4f1b81",
   "metadata": {},
   "outputs": [],
   "source": [
    "rands=np.random.uniform(-r,r,size=(N,D))"
   ]
  },
  {
   "cell_type": "code",
   "execution_count": 9,
   "id": "7d71825b-0dbb-4f8e-9fd3-6bed96c6c83a",
   "metadata": {},
   "outputs": [],
   "source": [
    "mysum=0\n",
    "for i in range(N):\n",
    "    mysum+=f(rands[i])"
   ]
  },
  {
   "cell_type": "code",
   "execution_count": 10,
   "id": "09afb3bb-7ef6-4345-a88a-fe3b448cef0d",
   "metadata": {},
   "outputs": [
    {
     "data": {
      "text/plain": [
       "2.1504"
      ]
     },
     "execution_count": 10,
     "metadata": {},
     "output_type": "execute_result"
    }
   ],
   "source": [
    "mysum*V/N"
   ]
  },
  {
   "cell_type": "code",
   "execution_count": null,
   "id": "ef758fa1-9ffd-4971-90c4-657aa7ee1a09",
   "metadata": {},
   "outputs": [],
   "source": []
  }
 ],
 "metadata": {
  "kernelspec": {
   "display_name": "Python [conda env:base] *",
   "language": "python",
   "name": "conda-base-py"
  },
  "language_info": {
   "codemirror_mode": {
    "name": "ipython",
    "version": 3
   },
   "file_extension": ".py",
   "mimetype": "text/x-python",
   "name": "python",
   "nbconvert_exporter": "python",
   "pygments_lexer": "ipython3",
   "version": "3.12.2"
  }
 },
 "nbformat": 4,
 "nbformat_minor": 5
}
