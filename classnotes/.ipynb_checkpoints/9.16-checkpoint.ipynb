{
 "cells": [
  {
   "cell_type": "markdown",
   "id": "8bcd0ed4-fbad-4ff3-904b-4d1d1a75e962",
   "metadata": {},
   "source": [
    "Final integration comments:\n",
    "- Gauss-Kronrod Quadrature - default version use by scipy.quad()\n",
    "- does nested quadrature so can adapt the error level\n",
    "- different quadrature methods use different polynomials to determine the location of the points\n",
    "- G-K using Stieltjes polynomials"
   ]
  },
  {
   "cell_type": "markdown",
   "id": "ca23998a-a957-4f83-8ca7-e97ccdec8921",
   "metadata": {},
   "source": [
    "Differentiation\n",
    "- derivatives of known functions can always be calculated analytically so numerical methods are less important\n",
    "- basic technique for numerical differentiation is quite simple\n",
    "- there are some problems with it though so good to avoid them\n",
    "- two numerical problems:\n",
    "    - subtracting two numbers close to each other\n",
    "    - dividing by a small number\n",
    "    - both of these can contribute to roundoff error\n",
    "- some basic schemes:\n",
    "    - forward difference\n",
    "    - backward difference\n",
    "    - one might be better if there is a discontinuity at x"
   ]
  },
  {
   "cell_type": "markdown",
   "id": "b9eedf49-26a4-49bf-b642-8173380da5e5",
   "metadata": {},
   "source": [
    "Error calculation\n",
    "- more Taylor series to estimate approximation error\n",
    "- both basic difference methods are first order with second order error\n",
    "- rounding error should be 2C*abs(f(x))/h\n",
    "- one error is improved with smaller h and the other is made worse\n",
    "- want to minimize total error, so take derivative of error expression and set to zero and solve for h\n",
    "- get that h should be around 10^-8 and then the error will also be about that magnitude\n",
    "- that's not very good!"
   ]
  },
  {
   "cell_type": "markdown",
   "id": "21aec6ec-3388-4508-b676-f4cdd0951d2e",
   "metadata": {},
   "source": [
    "Improved methods\n",
    "- centered difference is a second order scheme with third order error\n",
    "- now h should be 10^-5 and error will be 10^-10 which is 100x better than forward or backward difference"
   ]
  },
  {
   "cell_type": "markdown",
   "id": "e3179fc8-0065-4a82-af7a-a7493d323613",
   "metadata": {},
   "source": [
    "Sampled functions:\n",
    "- where you have just some points, not the actual function\n",
    "- get more accurate results if you calculate the derivatives with the centered difference method at points halfway between the actual data points"
   ]
  },
  {
   "cell_type": "code",
   "execution_count": 6,
   "id": "b465fafd-fdf3-4009-afed-1f21c4a903ad",
   "metadata": {},
   "outputs": [],
   "source": [
    "import math\n",
    "import numpy as np"
   ]
  },
  {
   "cell_type": "code",
   "execution_count": 7,
   "id": "956eea59-65cb-436b-847c-c9bb64c6aa02",
   "metadata": {},
   "outputs": [],
   "source": [
    "def f(x):\n",
    "    return 1+0.5*math.tanh(2*x)"
   ]
  },
  {
   "cell_type": "code",
   "execution_count": 8,
   "id": "3b5e07e4-c1f8-4f8b-9bf0-ce1434d7f2b0",
   "metadata": {},
   "outputs": [],
   "source": [
    "def sech(x):\n",
    "    return 1 / math.cosh(x)"
   ]
  },
  {
   "cell_type": "code",
   "execution_count": 9,
   "id": "79631374-5014-4042-84e3-172d9f85459c",
   "metadata": {},
   "outputs": [],
   "source": [
    "def fprime(x):\n",
    "    return sech(2*x)**2"
   ]
  },
  {
   "cell_type": "code",
   "execution_count": 10,
   "id": "e6998db5-6f7d-45b2-8f39-9383c5fb7139",
   "metadata": {},
   "outputs": [],
   "source": [
    "def centereddiff(f,x,h):\n",
    "    fplus=f(x+h/2)\n",
    "    fminus=f(x-h/2)\n",
    "    return (fplus-fminus)/h"
   ]
  },
  {
   "cell_type": "code",
   "execution_count": 11,
   "id": "03db1d77-5f90-4a3c-9fd0-1d16f98909ee",
   "metadata": {},
   "outputs": [],
   "source": [
    "h=10**-5"
   ]
  },
  {
   "cell_type": "code",
   "execution_count": 12,
   "id": "bd415c4b-38c8-4ac0-9a48-cec4b5f723b6",
   "metadata": {},
   "outputs": [],
   "source": [
    "Xs=np.linspace(-2,2,100)"
   ]
  },
  {
   "cell_type": "code",
   "execution_count": 13,
   "id": "841d86b3-cf97-4243-a2f3-36bc70eb9cc0",
   "metadata": {},
   "outputs": [],
   "source": [
    "Fp_est=np.zeros(Xs.size)"
   ]
  },
  {
   "cell_type": "code",
   "execution_count": 14,
   "id": "a28366c9-4688-46b1-924a-84d009f94503",
   "metadata": {},
   "outputs": [],
   "source": [
    "for i,x in enumerate(Xs):\n",
    "    Fp_est[i]=centereddiff(f,x,h)"
   ]
  },
  {
   "cell_type": "code",
   "execution_count": 15,
   "id": "902efabf-2d84-455c-9f09-96230f726ff1",
   "metadata": {},
   "outputs": [],
   "source": [
    "Fp_act=np.zeros(Xs.size)"
   ]
  },
  {
   "cell_type": "code",
   "execution_count": 16,
   "id": "e8a20d8a-aeb4-4cd8-b8a3-fc92d02c387e",
   "metadata": {},
   "outputs": [],
   "source": [
    "for i,x in enumerate(Xs):\n",
    "    Fp_act[i]=fprime(x)"
   ]
  },
  {
   "cell_type": "code",
   "execution_count": 17,
   "id": "624d25b3-02e1-4d60-a509-dab412e9f8e5",
   "metadata": {},
   "outputs": [],
   "source": [
    "import matplotlib.pyplot as plt"
   ]
  },
  {
   "cell_type": "code",
   "execution_count": 18,
   "id": "1c127da7-074d-4413-b78f-10d166be792d",
   "metadata": {},
   "outputs": [
    {
     "data": {
      "image/png": "[encoded data removed]",
      "text/plain": [
       "<Figure size 640x480 with 1 Axes>"
      ]
     },
     "metadata": {},
     "output_type": "display_data"
    }
   ],
   "source": [
    "plt.plot(Xs,Fp_act)\n",
    "plt.scatter(Xs,Fp_est,color='deeppink')\n",
    "plt.show()"
   ]
  },
  {
   "cell_type": "markdown",
   "id": "0fe58bb6-6f65-47ef-9d6c-e15c9c0c86ef",
   "metadata": {},
   "source": [
    "Higher order derivatives\n",
    "- could do a fourth order fit by including more points around x and weighting them differently\n",
    "- will start to get error though if there's any significant changes in the derivative around x\n",
    "- see slides for formulas"
   ]
  },
  {
   "cell_type": "markdown",
   "id": "7ea01d5b-dfb2-4efc-92ec-37aa34b6ad55",
   "metadata": {},
   "source": [
    "Second derivatives\n",
    "- just do derivative of the derivative\n",
    "- formula on slides for repeated centered difference\n",
    "- error does increase though\n",
    "- need to use 10^-8 for h again but error stays 10^-8"
   ]
  },
  {
   "cell_type": "markdown",
   "id": "62be6e71-50c9-49e6-b89a-03d035d26a41",
   "metadata": {},
   "source": [
    "Partial derivatives\n",
    "- can use regular centered difference and then add/substract h/2 from either x or y depending on which variable you are using the partial of\n",
    "- see slides for formulas for higher order partials\n",
    "- in general though derivatives are always the same process"
   ]
  },
  {
   "cell_type": "markdown",
   "id": "3a9ce074-d4cc-41d5-b7c3-3f91b3684d72",
   "metadata": {},
   "source": [
    "Noisy data\n",
    "- not so good for taking derivatives because the smaller variations in the data are not actually meaningful\n",
    "- could just make h larger to effectively smooth the data\n",
    "    - treat the noise like rounding error and find best h\n",
    "- could fit a function to the data and then take the derivative but need to be confident in your functional form choice\n",
    "- could smooth the data (eg with a fourier transform)"
   ]
  },
  {
   "cell_type": "markdown",
   "id": "c02f5a5c-b61e-4cce-836b-9ac783d3da05",
   "metadata": {},
   "source": [
    "In packages\n",
    "- scipy.misc has derivative() which uses central difference\n",
    "- numpy has a gradient function to calculate it along multiple axes at once"
   ]
  },
  {
   "cell_type": "markdown",
   "id": "aca05303-873e-4a7b-b1f2-2cef2659bdde",
   "metadata": {},
   "source": [
    "Interpolation\n",
    "- what would the value of points between your points be when you don't know the function\n",
    "- different than just fitting a function:\n",
    "    - interpolation is filling in information in a small region of a data set\n",
    "    - fitting a function attempts to model data to get a better understanding of the nature of the data\n",
    "- simplest form is linear interpolation - just draw a line between the two points and put the new points on that line\n",
    "    - can also work with points a little bit outside the two points but the further you go the less accurate it likely is\n",
    "    - error goes like deltax^2 where deltax is the space between the two points\n",
    "- also could do higher order interpolation like fitting a quadratic - requires three points though\n",
    "    - can have issues where f(x) ends up outside the range of the three points used for fitting and gives nonphysical answers\n",
    "- Lagrange interpolation - creates a function guaranteed to go through all the points used for fitting but it could be the wrong points\n",
    "    - more points lessens the error but can get big errors right near the end of the range\n",
    "    - Runge phenomena - osicllation becomes large at the end of the interval with polynomial interpolation\n",
    "    - can do better with variable spacing of points\n",
    "    - problem arises because the function is fit to the points, but not to their derivatives\n",
    "- can fix this with something called a spline where you also try to match the derivatives of the function at the end points\n",
    "    - most common one is cubic spline which matches the first and second derivative at each data point\n",
    "    - fitting gets very complicated - see slides\n",
    "    - good for plotting and graphing situations\n",
    "- numpy and scipy methods exist for this\n",
    "- to choose the best method, need think through science questions about what your data represents"
   ]
  },
  {
   "cell_type": "markdown",
   "id": "1746e076-5442-4d28-9f9d-5cd907fd03b5",
   "metadata": {},
   "source": [
    "Linear and nonlinear equations\n",
    "- computers are great at linear algebra because it's tedious but very straightforward\n",
    "- key methods:\n",
    "    - gaussian elimination\n",
    "    - back substitution\n",
    "    - LU decomp\n",
    "    - eigen vectors and eigen values\n",
    "- a system of linear equations can be written as matrix multiplication Ax=v\n",
    "- can solve this by inverting the matrix A to have x=A^(-1)*v\n",
    "- there are more straightforward ways to do this with a computer, like gaussian elimnation\n",
    "    - see slides for detailed steps\n",
    "    - basically rearranging A and v so A is an upper triangle\n",
    "    - then do back substitution"
   ]
  },
  {
   "cell_type": "markdown",
   "id": "9ea899b3-006a-4df6-b3c8-bdf89b209728",
   "metadata": {},
   "source": [
    "LU decomposition\n",
    "- better than GE if you are going to solve multiple systems with the same A but different v\n",
    "- basically records the steps we did for gaussian elimination\n",
    "- breaking A into two triangular matrices, one upper and one lower\n",
    "- numpy.linalg already has coded functions of these methods"
   ]
  },
  {
   "cell_type": "markdown",
   "id": "5bae35d3-b571-4985-bd07-43d4c8ad3148",
   "metadata": {},
   "source": [
    "Tridiagonal and banded matrices\n",
    "- often in physics the matrices only have nonzero values near the diagonal\n",
    "- tridiagonal is where only the bands on either side of the diagonal and the diagonal have nonzero values\n",
    "- banded is the same idea but just different numbers of filled in diagonals\n",
    "- don't want to wait time doing computations in the areas with lots of zeros "
   ]
  },
  {
   "cell_type": "markdown",
   "id": "9590981f-3c83-4c6d-9afe-d2bf85d5b45c",
   "metadata": {},
   "source": [
    "Eigen values and vectors\n",
    "- want to find a vector satisfying Av=lambda*v\n",
    "- can use the QR algorithm to solve numerically\n",
    "- do repeated steps to diagonalize the matrix although it takes an infinite number of steps, so set a tolerance level where it counts as close enough to zero outside the diagonal "
   ]
  },
  {
   "cell_type": "code",
   "execution_count": null,
   "id": "80bcbb14-afd7-4439-8c4c-4cb07f1b6747",
   "metadata": {},
   "outputs": [],
   "source": []
  }
 ],
 "metadata": {
  "kernelspec": {
   "display_name": "Python [conda env:base] *",
   "language": "python",
   "name": "conda-base-py"
  },
  "language_info": {
   "codemirror_mode": {
    "name": "ipython",
    "version": 3
   },
   "file_extension": ".py",
   "mimetype": "text/x-python",
   "name": "python",
   "nbconvert_exporter": "python",
   "pygments_lexer": "ipython3",
   "version": "3.12.2"
  }
 },
 "nbformat": 4,
 "nbformat_minor": 5
}
