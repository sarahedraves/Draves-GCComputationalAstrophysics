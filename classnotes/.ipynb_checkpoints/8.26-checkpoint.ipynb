{
 "cells": [
  {
   "cell_type": "markdown",
   "id": "8eca821a-f44a-40ba-8c3d-761ed1b3e4cf",
   "metadata": {},
   "source": [
    "Class idea: \n",
    "- learn background of coding techniques and how they were developed to be part of the conversation\n",
    "- goal is to be able to solve partial differential equations with computational methods/numerical techniques by the end\n",
    "- will start with basic calculus on the computer like integrals and derivatives - solved problem with modern computers\n",
    "- will also look at linear algebra, regular algebra, etc\n",
    "- complexity of solutions increases for ordinary and partial differential equations\n",
    "- also will talk about scaling and optimization - monte carlo!"
   ]
  },
  {
   "cell_type": "markdown",
   "id": "add30eb3-9b1d-4692-8e22-8830a7d8ffdf",
   "metadata": {},
   "source": [
    "Class structure:\n",
    "- coding practice and lectures in class\n",
    "- short assignments every week - upload to github\n",
    "- will have a midterm which is a vocab test - terms will be highlighted on the slides\n",
    "- will have a final project that is the majority of the grade - will present on them also"
   ]
  },
  {
   "cell_type": "markdown",
   "id": "ea3a0a6c-d6ed-4fac-aacc-73cbf8c11c60",
   "metadata": {},
   "source": [
    "Python notes: \n",
    "- == evaluates if two things are equal in value, is checks if they have the same memory address\n",
    "- loops are fine to understand what's happening - try to vectorize afterwards\n",
    "- making your code clear is the most important concern. worry about speed and optimization after.\n",
    "- enumerate and zip functions are useful for looping\n",
    "- list comprehension is basically a single line for loop and is faster but less readable"
   ]
  },
  {
   "cell_type": "code",
   "execution_count": null,
   "id": "6d59e976-bf0c-4f42-ad3d-a3a59492844e",
   "metadata": {},
   "outputs": [],
   "source": []
  }
 ],
 "metadata": {
  "kernelspec": {
   "display_name": "Python [conda env:base] *",
   "language": "python",
   "name": "conda-base-py"
  },
  "language_info": {
   "codemirror_mode": {
    "name": "ipython",
    "version": 3
   },
   "file_extension": ".py",
   "mimetype": "text/x-python",
   "name": "python",
   "nbconvert_exporter": "python",
   "pygments_lexer": "ipython3",
   "version": "3.12.2"
  }
 },
 "nbformat": 4,
 "nbformat_minor": 5
}
