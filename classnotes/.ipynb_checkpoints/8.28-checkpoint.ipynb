{
 "cells": [
  {
   "cell_type": "markdown",
   "id": "5a0c0445-676e-415d-b918-43e4a7adfe67",
   "metadata": {},
   "source": [
    "- homework needs to be a pure python file that can be run from the command line by typing python and then the file name\n",
    "- turn it in via github and send a URL to Ari at amaller@citytech.cuny.edu - do this by next week\n",
    "- put my name in the repo name\n",
    "- remember that you need to do print and show for stuff to actually show up in the command line unlike in notebooks"
   ]
  },
  {
   "cell_type": "markdown",
   "id": "39997417-4416-45ea-ba96-9464be01bb68",
   "metadata": {},
   "source": [
    "python notes:\n",
    "- functions are good! use them\n",
    "- positional arguments - must be put in the same order as in the function defintion and cannot be ommitted\n",
    "- keyword arguments - defined by their name and have a default value and do not need to be included\n",
    "- unspecified arguments - can pass *args for positional arguments and **kwargs it will pass as a dictionary that can be parsed. it can be useful for passing it on to a function called within the function. matplotlib does this."
   ]
  },
  {
   "cell_type": "code",
   "execution_count": 8,
   "id": "5a034beb-1f69-4803-91cb-84645115e5e2",
   "metadata": {},
   "outputs": [],
   "source": [
    "def timetoground(h,g=9.8):\n",
    "    t=(h*2/g)**0.5\n",
    "    return t"
   ]
  },
  {
   "cell_type": "code",
   "execution_count": 10,
   "id": "57dc5620-5b54-4c7b-be9e-00574f3d6ee7",
   "metadata": {},
   "outputs": [
    {
     "data": {
      "text/plain": [
       "1.0101525445522108"
      ]
     },
     "execution_count": 10,
     "metadata": {},
     "output_type": "execute_result"
    }
   ],
   "source": [
    "timetoground(5)"
   ]
  },
  {
   "cell_type": "code",
   "execution_count": 12,
   "id": "b3a676e1-6f7b-4a52-aaf8-68c643561f84",
   "metadata": {},
   "outputs": [
    {
     "data": {
      "text/plain": [
       "2.23606797749979"
      ]
     },
     "execution_count": 12,
     "metadata": {},
     "output_type": "execute_result"
    }
   ],
   "source": [
    "timetoground(5,g=2)"
   ]
  },
  {
   "cell_type": "markdown",
   "id": "07d8faf3-48d6-4e67-8545-a24340345882",
   "metadata": {},
   "source": [
    "- object oriented programming! python has classes where a data type is associated with related functions\n",
    "- functions in a class are called methods\n",
    "- can see the methods of a class by doing dir(variable)\n",
    "- methods with the name in the format __ name __ are not meant to be used and are internal"
   ]
  },
  {
   "cell_type": "code",
   "execution_count": 18,
   "id": "9bd874f6-0fc4-40c8-802a-17b7cde7636f",
   "metadata": {},
   "outputs": [
    {
     "data": {
      "text/plain": [
       "['__abs__',\n",
       " '__add__',\n",
       " '__bool__',\n",
       " '__ceil__',\n",
       " '__class__',\n",
       " '__delattr__',\n",
       " '__dir__',\n",
       " '__divmod__',\n",
       " '__doc__',\n",
       " '__eq__',\n",
       " '__float__',\n",
       " '__floor__',\n",
       " '__floordiv__',\n",
       " '__format__',\n",
       " '__ge__',\n",
       " '__getattribute__',\n",
       " '__getformat__',\n",
       " '__getnewargs__',\n",
       " '__getstate__',\n",
       " '__gt__',\n",
       " '__hash__',\n",
       " '__init__',\n",
       " '__init_subclass__',\n",
       " '__int__',\n",
       " '__le__',\n",
       " '__lt__',\n",
       " '__mod__',\n",
       " '__mul__',\n",
       " '__ne__',\n",
       " '__neg__',\n",
       " '__new__',\n",
       " '__pos__',\n",
       " '__pow__',\n",
       " '__radd__',\n",
       " '__rdivmod__',\n",
       " '__reduce__',\n",
       " '__reduce_ex__',\n",
       " '__repr__',\n",
       " '__rfloordiv__',\n",
       " '__rmod__',\n",
       " '__rmul__',\n",
       " '__round__',\n",
       " '__rpow__',\n",
       " '__rsub__',\n",
       " '__rtruediv__',\n",
       " '__setattr__',\n",
       " '__sizeof__',\n",
       " '__str__',\n",
       " '__sub__',\n",
       " '__subclasshook__',\n",
       " '__truediv__',\n",
       " '__trunc__',\n",
       " 'as_integer_ratio',\n",
       " 'conjugate',\n",
       " 'fromhex',\n",
       " 'hex',\n",
       " 'imag',\n",
       " 'is_integer',\n",
       " 'real']"
      ]
     },
     "execution_count": 18,
     "metadata": {},
     "output_type": "execute_result"
    }
   ],
   "source": [
    "x=6.5\n",
    "dir(x)"
   ]
  },
  {
   "cell_type": "code",
   "execution_count": 20,
   "id": "05157b46-9c3f-4283-a115-ecf37a32ccef",
   "metadata": {},
   "outputs": [
    {
     "data": {
      "text/plain": [
       "(13, 2)"
      ]
     },
     "execution_count": 20,
     "metadata": {},
     "output_type": "execute_result"
    }
   ],
   "source": [
    "x.as_integer_ratio() #note that you call methods by doing variable.method() instead of function(variable)"
   ]
  },
  {
   "cell_type": "code",
   "execution_count": 22,
   "id": "3d1ecb24-d8da-4a7d-984f-2b2f54e88795",
   "metadata": {},
   "outputs": [
    {
     "data": {
      "text/plain": [
       "['__add__',\n",
       " '__class__',\n",
       " '__class_getitem__',\n",
       " '__contains__',\n",
       " '__delattr__',\n",
       " '__delitem__',\n",
       " '__dir__',\n",
       " '__doc__',\n",
       " '__eq__',\n",
       " '__format__',\n",
       " '__ge__',\n",
       " '__getattribute__',\n",
       " '__getitem__',\n",
       " '__getstate__',\n",
       " '__gt__',\n",
       " '__hash__',\n",
       " '__iadd__',\n",
       " '__imul__',\n",
       " '__init__',\n",
       " '__init_subclass__',\n",
       " '__iter__',\n",
       " '__le__',\n",
       " '__len__',\n",
       " '__lt__',\n",
       " '__mul__',\n",
       " '__ne__',\n",
       " '__new__',\n",
       " '__reduce__',\n",
       " '__reduce_ex__',\n",
       " '__repr__',\n",
       " '__reversed__',\n",
       " '__rmul__',\n",
       " '__setattr__',\n",
       " '__setitem__',\n",
       " '__sizeof__',\n",
       " '__str__',\n",
       " '__subclasshook__',\n",
       " 'append',\n",
       " 'clear',\n",
       " 'copy',\n",
       " 'count',\n",
       " 'extend',\n",
       " 'index',\n",
       " 'insert',\n",
       " 'pop',\n",
       " 'remove',\n",
       " 'reverse',\n",
       " 'sort']"
      ]
     },
     "execution_count": 22,
     "metadata": {},
     "output_type": "execute_result"
    }
   ],
   "source": [
    "mylist=[]\n",
    "dir(mylist)"
   ]
  },
  {
   "cell_type": "markdown",
   "id": "9ce3054e-280d-4c9a-8063-41546ffa4675",
   "metadata": {},
   "source": [
    "- classes are useful when you have a bunch of different variables all associated with each other and you want to store them together and be able to call specific functions on them easily"
   ]
  },
  {
   "cell_type": "code",
   "execution_count": 25,
   "id": "f61ef342-91ab-4101-bc12-3e2017e236c0",
   "metadata": {},
   "outputs": [
    {
     "data": {
      "text/plain": [
       "[1, 'new', 2, 1]"
      ]
     },
     "execution_count": 25,
     "metadata": {},
     "output_type": "execute_result"
    }
   ],
   "source": [
    "mylist.append(1)\n",
    "mylist.append(2)\n",
    "mylist.append(1)\n",
    "mylist.insert(1,'new')\n",
    "mylist"
   ]
  },
  {
   "cell_type": "code",
   "execution_count": 27,
   "id": "9e6e700c-9adb-496e-ac8c-411a9e463734",
   "metadata": {},
   "outputs": [
    {
     "name": "stdout",
     "output_type": "stream",
     "text": [
      "2\n",
      "[1, 'new', 1]\n"
     ]
    }
   ],
   "source": [
    "y=mylist.pop(2)\n",
    "print(y)\n",
    "print(mylist)"
   ]
  },
  {
   "cell_type": "code",
   "execution_count": 29,
   "id": "dfce776e-35ca-429c-8190-5b2fda657c88",
   "metadata": {},
   "outputs": [
    {
     "data": {
      "text/plain": [
       "['new', 1]"
      ]
     },
     "execution_count": 29,
     "metadata": {},
     "output_type": "execute_result"
    }
   ],
   "source": [
    "mylist.remove(1)\n",
    "mylist"
   ]
  },
  {
   "cell_type": "code",
   "execution_count": 31,
   "id": "0683add9-2f5e-4837-9ea4-7983764b013a",
   "metadata": {},
   "outputs": [
    {
     "data": {
      "text/plain": [
       "['__add__',\n",
       " '__class__',\n",
       " '__contains__',\n",
       " '__delattr__',\n",
       " '__dir__',\n",
       " '__doc__',\n",
       " '__eq__',\n",
       " '__format__',\n",
       " '__ge__',\n",
       " '__getattribute__',\n",
       " '__getitem__',\n",
       " '__getnewargs__',\n",
       " '__getstate__',\n",
       " '__gt__',\n",
       " '__hash__',\n",
       " '__init__',\n",
       " '__init_subclass__',\n",
       " '__iter__',\n",
       " '__le__',\n",
       " '__len__',\n",
       " '__lt__',\n",
       " '__mod__',\n",
       " '__mul__',\n",
       " '__ne__',\n",
       " '__new__',\n",
       " '__reduce__',\n",
       " '__reduce_ex__',\n",
       " '__repr__',\n",
       " '__rmod__',\n",
       " '__rmul__',\n",
       " '__setattr__',\n",
       " '__sizeof__',\n",
       " '__str__',\n",
       " '__subclasshook__',\n",
       " 'capitalize',\n",
       " 'casefold',\n",
       " 'center',\n",
       " 'count',\n",
       " 'encode',\n",
       " 'endswith',\n",
       " 'expandtabs',\n",
       " 'find',\n",
       " 'format',\n",
       " 'format_map',\n",
       " 'index',\n",
       " 'isalnum',\n",
       " 'isalpha',\n",
       " 'isascii',\n",
       " 'isdecimal',\n",
       " 'isdigit',\n",
       " 'isidentifier',\n",
       " 'islower',\n",
       " 'isnumeric',\n",
       " 'isprintable',\n",
       " 'isspace',\n",
       " 'istitle',\n",
       " 'isupper',\n",
       " 'join',\n",
       " 'ljust',\n",
       " 'lower',\n",
       " 'lstrip',\n",
       " 'maketrans',\n",
       " 'partition',\n",
       " 'removeprefix',\n",
       " 'removesuffix',\n",
       " 'replace',\n",
       " 'rfind',\n",
       " 'rindex',\n",
       " 'rjust',\n",
       " 'rpartition',\n",
       " 'rsplit',\n",
       " 'rstrip',\n",
       " 'split',\n",
       " 'splitlines',\n",
       " 'startswith',\n",
       " 'strip',\n",
       " 'swapcase',\n",
       " 'title',\n",
       " 'translate',\n",
       " 'upper',\n",
       " 'zfill']"
      ]
     },
     "execution_count": 31,
     "metadata": {},
     "output_type": "execute_result"
    }
   ],
   "source": [
    "mystr='Hello World'\n",
    "dir(mystr)"
   ]
  },
  {
   "cell_type": "code",
   "execution_count": 33,
   "id": "abec0d78-bcce-4dc1-9db0-ebefd6740924",
   "metadata": {},
   "outputs": [
    {
     "data": {
      "text/plain": [
       "'hELLO wORLD'"
      ]
     },
     "execution_count": 33,
     "metadata": {},
     "output_type": "execute_result"
    }
   ],
   "source": [
    "mystr.swapcase()"
   ]
  },
  {
   "cell_type": "markdown",
   "id": "04c24ec4-8365-43c9-86bd-54a2ec76ae23",
   "metadata": {},
   "source": [
    "writing classes:\n",
    "- start with class Name:\n",
    "- then need an __ init __ method that will run when an instance of the class is created\n",
    "- when defining methods, can use self.variable to have variables that are associated with the class\n",
    "- see slides for more"
   ]
  },
  {
   "cell_type": "markdown",
   "id": "14ffaf46-86c9-480c-9689-e30769c6101f",
   "metadata": {},
   "source": [
    "packages:\n",
    "- python doesn't have that many functions so need to import packages\n",
    "- can import specific functions from a package like: from numpy import exp,log\n",
    "- can import all the functions with: from numpy import * - don't do this\n",
    "- can import the package with: import numpy or import numpy as np\n",
    "- can import subpackages with: import scipy.optimize as opt\n",
    "- sometimes the subpackages actually won't work if you try to import the whole package and not the subpackage on its own - matplotlib is like this\n",
    "- need a package management system like conda\n",
    "- UV is the trendy one now\n",
    "- can use the channel conda-forge when you need more up to date stuff but it can also mess up all your stuff so that's what different environments are for"
   ]
  },
  {
   "cell_type": "code",
   "execution_count": null,
   "id": "6e9edfd0-94cb-43ec-80ff-d992d8f31012",
   "metadata": {},
   "outputs": [],
   "source": []
  }
 ],
 "metadata": {
  "kernelspec": {
   "display_name": "Python [conda env:base] *",
   "language": "python",
   "name": "conda-base-py"
  },
  "language_info": {
   "codemirror_mode": {
    "name": "ipython",
    "version": 3
   },
   "file_extension": ".py",
   "mimetype": "text/x-python",
   "name": "python",
   "nbconvert_exporter": "python",
   "pygments_lexer": "ipython3",
   "version": "3.12.2"
  }
 },
 "nbformat": 4,
 "nbformat_minor": 5
}
