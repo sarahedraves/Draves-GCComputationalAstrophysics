{
 "cells": [
  {
   "cell_type": "markdown",
   "id": "57d199d8-4d56-440c-bcd6-dc155c389688",
   "metadata": {},
   "source": [
    "Transformation method:\n",
    "- take uniform distribution and change the density to match desired probability distribution\n",
    "- math on slides"
   ]
  },
  {
   "cell_type": "code",
   "execution_count": 3,
   "id": "93afbcbc-1d9f-49dc-bba4-77ef10a49464",
   "metadata": {},
   "outputs": [],
   "source": [
    "import numpy as np\n",
    "import matplotlib.pyplot as plt"
   ]
  },
  {
   "cell_type": "code",
   "execution_count": 4,
   "id": "f2cbc8e6-bfd3-4427-badc-f58dab92b9fa",
   "metadata": {},
   "outputs": [],
   "source": [
    "tauNi=6.075*24 #half life of nickel-56 in hours\n",
    "mu=1/tauNi\n",
    "NNi=1000"
   ]
  },
  {
   "cell_type": "code",
   "execution_count": 5,
   "id": "05e24978-e7f8-4468-8540-3f3d7bc1c552",
   "metadata": {},
   "outputs": [],
   "source": [
    "def transform(z,mu):\n",
    "    return -(1/mu)*np.log(1-z)"
   ]
  },
  {
   "cell_type": "code",
   "execution_count": 6,
   "id": "4d4c9831-8dde-4f5c-a0c6-b9bbb48ebdc2",
   "metadata": {},
   "outputs": [],
   "source": [
    "Zs=np.random.random(NNi)"
   ]
  },
  {
   "cell_type": "code",
   "execution_count": 7,
   "id": "0d7d5b49-b778-453a-a0d4-706412f2e88a",
   "metadata": {},
   "outputs": [],
   "source": [
    "Xs=transform(Zs,mu)"
   ]
  },
  {
   "cell_type": "code",
   "execution_count": 8,
   "id": "22bf05ab-a3ca-4c05-b2a6-02e09c4f4327",
   "metadata": {},
   "outputs": [],
   "source": [
    "Xsort=np.sort(Xs)"
   ]
  },
  {
   "cell_type": "code",
   "execution_count": 9,
   "id": "e580b46a-3f8c-47ae-ab13-1c56f3945295",
   "metadata": {},
   "outputs": [],
   "source": [
    "Ys=np.arange(1000,0,-1)"
   ]
  },
  {
   "cell_type": "code",
   "execution_count": 10,
   "id": "4f8aeb99-9d28-4557-b21e-2ca9baf982be",
   "metadata": {},
   "outputs": [
    {
     "data": {
      "image/png": "[encoded data removed]",
      "text/plain": [
       "<Figure size 640x480 with 1 Axes>"
      ]
     },
     "metadata": {},
     "output_type": "display_data"
    }
   ],
   "source": [
    "plt.plot(Xsort,Ys)\n",
    "plt.ylabel('Number of undecayed atoms')\n",
    "plt.xlabel('Time in hours')\n",
    "plt.show()"
   ]
  },
  {
   "cell_type": "markdown",
   "id": "f85db4e7-dd8a-40b2-a510-5041c41c084b",
   "metadata": {},
   "source": [
    "Gaussian distribution:\n",
    "- transformation method fails here because you can't integrate e^(-x^2)\n",
    "- imagine we have a distribution of two variables. then put it into polar coordinates. then can integrate it and transform back to cartesian."
   ]
  },
  {
   "cell_type": "markdown",
   "id": "ccafef4c-6a1d-4dcb-bf45-03fe45c45429",
   "metadata": {},
   "source": [
    "Monte Carlo integration:\n",
    "- can solve an integral that can't be done analytically and also where the integrand is so poorly behaved that our previous methods will not work\n",
    "- chose a large number of random points in the box that the function is contained in\n",
    "- the probability that a point will fall below the function is just p=Integral/Area\n",
    "- so if we generate N random points and k fall below the curve we estimate the probability p=k/N and then the value of the integral is I=kA/N\n",
    "- unfortunately this is not super accurate compared to our nice methods. so don't use it on one dimensional well behaved integrals.\n",
    "- the accuracy improves at N^(-1/2) which is slow compared to trapezoid at N^-2 and simpsons at N^-4\n",
    "- but there are other Monte Carlo methods for integration! we can improve it some. although not a lot."
   ]
  },
  {
   "cell_type": "markdown",
   "id": "a73c2e92-839a-43f8-98cb-f78e8d305502",
   "metadata": {},
   "source": [
    "Mean value method:\n",
    "- uses average value of f(x) in a certain range\n",
    "- see slides for formula\n",
    "- accuracy still improves at N^(-1/2) but the leading constant on the error is smaller"
   ]
  },
  {
   "cell_type": "code",
   "execution_count": 32,
   "id": "f7928141-8232-4f39-8314-5a3d11f3039f",
   "metadata": {},
   "outputs": [],
   "source": [
    "def f(x):\n",
    "    return np.sin(1/(x*(2-x)))**2"
   ]
  },
  {
   "cell_type": "code",
   "execution_count": 42,
   "id": "287b4e58-39c0-4390-a8cc-8d839e08a6f6",
   "metadata": {},
   "outputs": [],
   "source": [
    "N=10000\n",
    "A=2\n",
    "Xs=np.random.random(N)*2\n",
    "Ys=np.random.random(N)"
   ]
  },
  {
   "cell_type": "code",
   "execution_count": 44,
   "id": "5553838a-40e8-4948-962f-0e43bd7279c6",
   "metadata": {},
   "outputs": [],
   "source": [
    "k=0\n",
    "for x,y in zip(Xs,Ys):\n",
    "    if y<f(x):\n",
    "        k+=1"
   ]
  },
  {
   "cell_type": "code",
   "execution_count": 50,
   "id": "8fc37fbe-797d-4ee0-802c-028b34514e4e",
   "metadata": {},
   "outputs": [
    {
     "data": {
      "text/plain": [
       "1.4446"
      ]
     },
     "execution_count": 50,
     "metadata": {},
     "output_type": "execute_result"
    }
   ],
   "source": [
    "I=k*A/N\n",
    "I"
   ]
  },
  {
   "cell_type": "code",
   "execution_count": 52,
   "id": "7ea484c2-2d52-4428-bb2d-f8bb87f96ebe",
   "metadata": {},
   "outputs": [
    {
     "data": {
      "text/plain": [
       "0.00895729222477418"
      ]
     },
     "execution_count": 52,
     "metadata": {},
     "output_type": "execute_result"
    }
   ],
   "source": [
    "sigma=((I*(A-I))/N)**0.5\n",
    "sigma"
   ]
  },
  {
   "cell_type": "code",
   "execution_count": 54,
   "id": "bc7d6559-3ba0-40e8-9ef6-a0a3588debf0",
   "metadata": {},
   "outputs": [],
   "source": [
    "a=0\n",
    "b=2\n",
    "N=10000\n",
    "Xs=np.random.random(N)*(b-a)"
   ]
  },
  {
   "cell_type": "code",
   "execution_count": 64,
   "id": "64fd0f60-0630-4a1c-9cdd-98d0ecdd62f3",
   "metadata": {},
   "outputs": [
    {
     "data": {
      "text/plain": [
       "1.4523579507181064"
      ]
     },
     "execution_count": 64,
     "metadata": {},
     "output_type": "execute_result"
    }
   ],
   "source": [
    "I=(b-a)/N*np.sum(f(Xs))\n",
    "I"
   ]
  },
  {
   "cell_type": "code",
   "execution_count": 68,
   "id": "66ef5c5e-be86-4809-a614-20469baedea1",
   "metadata": {},
   "outputs": [],
   "source": [
    "favg=1/N*np.sum(f(Xs))\n",
    "f2avg=1/N*np.sum(f(Xs)**2)\n",
    "varf=f2avg-favg**2"
   ]
  },
  {
   "cell_type": "code",
   "execution_count": 70,
   "id": "18f6321d-2835-4dfb-a49c-d10171c7bb7e",
   "metadata": {},
   "outputs": [
    {
     "data": {
      "text/plain": [
       "0.0052862804731143844"
      ]
     },
     "execution_count": 70,
     "metadata": {},
     "output_type": "execute_result"
    }
   ],
   "source": [
    "sigma=(b-a)*(varf/N)**0.5\n",
    "sigma"
   ]
  },
  {
   "cell_type": "markdown",
   "id": "4ebc115c-3a7b-4643-a810-b673836168dd",
   "metadata": {},
   "source": [
    "Many dimensions:\n",
    "- this is the main use of monte carlo integration\n",
    "- for our other integration methods, they scale terrible in higher dimensions because the number of points is N^n where N is the number of points in one dimension and n is the number of dimensions\n",
    "- straightforward to extend the mean value method to multiple dimensions - see slides for formula"
   ]
  },
  {
   "cell_type": "code",
   "execution_count": null,
   "id": "58159f47-7601-4cc1-9827-0fe0f63dd9ac",
   "metadata": {},
   "outputs": [],
   "source": []
  }
 ],
 "metadata": {
  "kernelspec": {
   "display_name": "Python [conda env:base] *",
   "language": "python",
   "name": "conda-base-py"
  },
  "language_info": {
   "codemirror_mode": {
    "name": "ipython",
    "version": 3
   },
   "file_extension": ".py",
   "mimetype": "text/x-python",
   "name": "python",
   "nbconvert_exporter": "python",
   "pygments_lexer": "ipython3",
   "version": "3.12.2"
  }
 },
 "nbformat": 4,
 "nbformat_minor": 5
}
