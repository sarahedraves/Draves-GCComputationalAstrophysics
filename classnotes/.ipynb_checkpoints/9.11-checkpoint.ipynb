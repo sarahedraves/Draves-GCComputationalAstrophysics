{
 "cells": [
  {
   "cell_type": "markdown",
   "id": "95675f68-9be7-4162-8e26-e3a350e68ee1",
   "metadata": {},
   "source": [
    "Continuing integration:\n",
    "- we're spending time on integration because it helps us understand the process of optimizing a numerical technique, but it's already a solved problem\n",
    "- looked at accuracy and approximation error vs roundoff error\n",
    "- adaptive integration allows us to converge on a solution that's at the level of precision we want - see slides for steps"
   ]
  },
  {
   "cell_type": "markdown",
   "id": "47560bb7-776f-476b-a4b9-581817211556",
   "metadata": {},
   "source": [
    "Romberg integration:\n",
    "- even better than adaptive integration\n",
    "- sounds insane at first\n",
    "- use the error estimate to try to correct our results\n",
    "- accurate to third order like simpson's but is based on the trapezoid rule\n",
    "- then do multiple round of further integration and correction to increase the order of accuracy\n",
    "- this doesn't require more calculation than adaptive integration because you would do increased step size calculations anyways, but the answers are much more accurate\n",
    "- this is basically a series expansion around the step size h and the accuracy is only improved if the series converges quickly, which it should as long as the integral is well behaved and doesn't have wild fluctuations, singularties, lots of noise - called Richardson Extrapolation"
   ]
  },
  {
   "cell_type": "markdown",
   "id": "e8e4204b-0145-4975-bac5-94974d03fa5d",
   "metadata": {},
   "source": [
    "Higher order methods:\n",
    "- can get to a higher order by using a higher order polynomial to fit each slice\n",
    "- just need to re-weight the different points\n",
    "- the Newton-Cotes formula can be used for calculating any higher older method"
   ]
  },
  {
   "cell_type": "markdown",
   "id": "5397c289-16e2-4f2c-ab4b-2beb9add861c",
   "metadata": {},
   "source": [
    "Gaussian quadrature:\n",
    "- instead of evenly spacing the points, can be used with a nonuniform set of N points\n",
    "- useful if your experimental data only has a given number of points (not using an actual function)\n",
    "- for quadrature in general, you have more points in areas where the function is changing more and fewer where the function is changing less\n",
    "- for gaussian, points are denser but weighted less closer to ends of the bounds\n",
    "- see slides for more details"
   ]
  },
  {
   "cell_type": "code",
   "execution_count": 6,
   "id": "542bb1ca-042a-4384-8978-8b87aab92f97",
   "metadata": {},
   "outputs": [],
   "source": [
    "import sys\n",
    "import os\n",
    "\n",
    "#asked claude how to do this since the chatgpt solution didn't work\n",
    "sys.path.append(os.path.join('..', 'importantfunctions'))"
   ]
  },
  {
   "cell_type": "code",
   "execution_count": 7,
   "id": "db98f161-88eb-4f1c-8fbc-b1452e5b127b",
   "metadata": {},
   "outputs": [],
   "source": [
    "from gaussxw import *"
   ]
  },
  {
   "cell_type": "code",
   "execution_count": 8,
   "id": "e63fa7cd-e411-474c-95e1-65e923e1b756",
   "metadata": {},
   "outputs": [],
   "source": [
    "def f(x):\n",
    "    return x**4-2*x+1"
   ]
  },
  {
   "cell_type": "code",
   "execution_count": 9,
   "id": "146a4858-ee5c-4204-854b-8a036378ea80",
   "metadata": {},
   "outputs": [
    {
     "name": "stdout",
     "output_type": "stream",
     "text": [
      "[1.77459667 1.         0.22540333]\n",
      "[0.55555556 0.88888889 0.55555556]\n"
     ]
    }
   ],
   "source": [
    "points,weights=gaussxwab(3,0,2)\n",
    "print(points)\n",
    "print(weights)"
   ]
  },
  {
   "cell_type": "code",
   "execution_count": 10,
   "id": "8b75ee23-6789-4069-900e-c0788929fe95",
   "metadata": {},
   "outputs": [],
   "source": [
    "def gaussquad(function,a,b,N=3):\n",
    "    points,weights=gaussxwab(N,a,b)\n",
    "    mysum=0\n",
    "    for k in range(0,N):\n",
    "        mysum+=weights[k]*function(points[k])\n",
    "    return mysum"
   ]
  },
  {
   "cell_type": "code",
   "execution_count": 11,
   "id": "17bbe72a-b1e3-476c-8c1e-4408c78ba674",
   "metadata": {},
   "outputs": [
    {
     "data": {
      "text/plain": [
       "4.4000000000000075"
      ]
     },
     "execution_count": 11,
     "metadata": {},
     "output_type": "execute_result"
    }
   ],
   "source": [
    "gaussquad(f,0,2)"
   ]
  },
  {
   "cell_type": "code",
   "execution_count": 12,
   "id": "b65230fd-0ff3-4653-9442-3a2b6f6956d4",
   "metadata": {},
   "outputs": [
    {
     "data": {
      "text/plain": [
       "4.400000000000018"
      ]
     },
     "execution_count": 12,
     "metadata": {},
     "output_type": "execute_result"
    }
   ],
   "source": [
    "gaussquad(f,0,2,5)"
   ]
  },
  {
   "cell_type": "code",
   "execution_count": 13,
   "id": "4a4959cf-46ad-45b7-b89c-4644e99a67d1",
   "metadata": {},
   "outputs": [
    {
     "data": {
      "text/plain": [
       "True"
      ]
     },
     "execution_count": 13,
     "metadata": {},
     "output_type": "execute_result"
    }
   ],
   "source": [
    "gaussquad(f,0,2,5)>gaussquad(f,0,2)"
   ]
  },
  {
   "cell_type": "code",
   "execution_count": 14,
   "id": "75380b97-82e1-4d08-a05d-9c214cfe60f4",
   "metadata": {},
   "outputs": [
    {
     "data": {
      "text/plain": [
       "4.4000000000000155"
      ]
     },
     "execution_count": 14,
     "metadata": {},
     "output_type": "execute_result"
    }
   ],
   "source": [
    "gaussquad(f,0,2,9)"
   ]
  },
  {
   "cell_type": "code",
   "execution_count": 15,
   "id": "59bc903f-6023-4c67-a8ca-ebc2ca7eaf25",
   "metadata": {},
   "outputs": [
    {
     "data": {
      "text/plain": [
       "True"
      ]
     },
     "execution_count": 15,
     "metadata": {},
     "output_type": "execute_result"
    }
   ],
   "source": [
    "gaussquad(f,0,2,9)>gaussquad(f,0,2,3)"
   ]
  },
  {
   "cell_type": "code",
   "execution_count": 16,
   "id": "51862f46-0042-42cd-bee8-86bfa5451d70",
   "metadata": {},
   "outputs": [],
   "source": [
    "import numpy as np"
   ]
  },
  {
   "cell_type": "code",
   "execution_count": 17,
   "id": "9d3d212f-f17a-405b-9bc1-509150913536",
   "metadata": {},
   "outputs": [],
   "source": [
    "Ns=np.arange(3,15,2)"
   ]
  },
  {
   "cell_type": "code",
   "execution_count": 18,
   "id": "37f71b9e-ed02-4a18-9256-956777846e5b",
   "metadata": {},
   "outputs": [],
   "source": [
    "Is=np.zeros(6)"
   ]
  },
  {
   "cell_type": "code",
   "execution_count": 19,
   "id": "8af06982-2577-4874-a7b1-e90fb9528224",
   "metadata": {},
   "outputs": [],
   "source": [
    "for i in range(6):\n",
    "    I=gaussquad(f,0,2,Ns[i])\n",
    "    Is[i]=I"
   ]
  },
  {
   "cell_type": "code",
   "execution_count": 20,
   "id": "6650d87f-da2c-4b27-8583-3f9eb2029246",
   "metadata": {},
   "outputs": [],
   "source": [
    "import matplotlib.pyplot as plt"
   ]
  },
  {
   "cell_type": "code",
   "execution_count": 21,
   "id": "e86ecb21-08a1-4994-93f2-de8656edf9e5",
   "metadata": {},
   "outputs": [
    {
     "data": {
      "text/plain": [
       "(4.3999999999956065, 4.400000000004422)"
      ]
     },
     "execution_count": 21,
     "metadata": {},
     "output_type": "execute_result"
    },
    {
     "data": {
      "image/png": "[encoded data removed]",
      "text/plain": [
       "<Figure size 640x480 with 1 Axes>"
      ]
     },
     "metadata": {},
     "output_type": "display_data"
    }
   ],
   "source": [
    "plt.scatter(Ns,Is)\n",
    "plt.ylim()"
   ]
  },
  {
   "cell_type": "code",
   "execution_count": 22,
   "id": "f10cfda4-542c-43f4-bc33-163d60812ecf",
   "metadata": {},
   "outputs": [
    {
     "data": {
      "text/plain": [
       "(4.39999999999995, 4.40000000000005)"
      ]
     },
     "execution_count": 22,
     "metadata": {},
     "output_type": "execute_result"
    },
    {
     "data": {
      "image/png": "[encoded data removed]",
      "text/plain": [
       "<Figure size 640x480 with 1 Axes>"
      ]
     },
     "metadata": {},
     "output_type": "display_data"
    }
   ],
   "source": [
    "plt.scatter(Ns,Is)\n",
    "plt.ylim(4.39999999999995, 4.40000000000005)"
   ]
  },
  {
   "cell_type": "markdown",
   "id": "1695a868-7037-4797-b693-a07d61ddeceb",
   "metadata": {},
   "source": [
    "Error on gaussian quadrature:\n",
    "- increasing N by 1 gives a hundred fold increase in accuracy\n",
    "- can't do nesting because when you double the number of points, there's no point overlap "
   ]
  },
  {
   "cell_type": "markdown",
   "id": "0be1a190-227b-4d89-aa2f-3f3589778a19",
   "metadata": {},
   "source": [
    "Choosing an integration:\n",
    "- higher order methods will give you an accurate answer in few steps if the integrand is well behaved\n",
    "- for problematic integrands, higher order methods may not converge well and simpler methods like trapezoidal might work better\n",
    "- can just plot some points and see if it looks like a function vs points all over the place to know if it's well behaved\n",
    "- even spacing or not is also a consideration\n",
    "- can also see if different methods agree\n",
    "- try a method and check conversion to see if you are getting towards the right answer\n",
    "- will cover Monte Carlo integration later"
   ]
  },
  {
   "cell_type": "markdown",
   "id": "5f20b754-f69a-499e-b256-e3749c9bf8bd",
   "metadata": {},
   "source": [
    "Infinite bounds: \n",
    "- can't integrate from 0 to infinity numerically\n",
    "- so do a change of variables with x=z/(1-z) and then z as your interation variable\n",
    "- so integral from 0 to inf of f(x)dx becomes integral from 0 to 1 of 1/(z-1)^2 times f(z/(1-z))dz\n",
    "- there are other choices for substitution - see slides\n",
    "- can break it up into chunks like -inf to 0 and 0 to +inf"
   ]
  },
  {
   "cell_type": "markdown",
   "id": "1e8522df-fbb6-48c8-9359-e2cef0ef8f1b",
   "metadata": {},
   "source": [
    "Multiple dimension integrals:\n",
    "- can just do one integral and then the next\n",
    "- get the Gauss-Legendre product formula - see slides\n",
    "- point choices becomes more complicated because you have to determine spacing in each dimension\n",
    "- don't have an optimal point distribution like gaussian distribution in 1D and it's not clear if that is a solvable problem\n",
    "- one way: Sobol sequence\n",
    "- another: Monte Carlo - basically just choosing randomly and will cover later\n",
    "- could also have variable limits instead of finite limits - this can cause an issue where the points are closer together in one part of the space than another - see slides"
   ]
  },
  {
   "cell_type": "markdown",
   "id": "b80fb8ff-c012-4d0e-b087-45b14e7a1dd9",
   "metadata": {},
   "source": [
    "Scipy package has most of these built into the sub-package integrate:\n",
    "- quad, dblquad, tplquad do multidimensional integration\n",
    "- also quadrature() and romberg()\n",
    "- trapezoid() and simpson() are designed to take an array of values instead of a function"
   ]
  },
  {
   "cell_type": "code",
   "execution_count": null,
   "id": "8c7f2964-1b26-4903-9a19-72d496c246d8",
   "metadata": {},
   "outputs": [],
   "source": []
  }
 ],
 "metadata": {
  "kernelspec": {
   "display_name": "Python [conda env:base] *",
   "language": "python",
   "name": "conda-base-py"
  },
  "language_info": {
   "codemirror_mode": {
    "name": "ipython",
    "version": 3
   },
   "file_extension": ".py",
   "mimetype": "text/x-python",
   "name": "python",
   "nbconvert_exporter": "python",
   "pygments_lexer": "ipython3",
   "version": "3.12.2"
  }
 },
 "nbformat": 4,
 "nbformat_minor": 5
}
