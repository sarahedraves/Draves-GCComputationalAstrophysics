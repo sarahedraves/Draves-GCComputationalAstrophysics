{
 "cells": [
  {
   "cell_type": "code",
   "execution_count": 2,
   "id": "a7b9a10d-0752-4a58-b22a-db30ef570c8e",
   "metadata": {},
   "outputs": [],
   "source": [
    "import numpy as np\n",
    "import sys\n",
    "import os\n",
    "sys.path.append(os.path.join('..', 'importantfunctions'))\n",
    "from integrationmethods import *"
   ]
  },
  {
   "cell_type": "code",
   "execution_count": 3,
   "id": "dd2bd098-8ef8-4bb1-b2ac-ef2b523c6733",
   "metadata": {},
   "outputs": [],
   "source": [
    "def f(t):\n",
    "    return np.exp(-(t**2))"
   ]
  },
  {
   "cell_type": "code",
   "execution_count": 4,
   "id": "ce3f1437-2deb-426c-86c7-0f462d1b79a1",
   "metadata": {},
   "outputs": [
    {
     "data": {
      "text/plain": [
       "5.242885663363464e-22"
      ]
     },
     "execution_count": 4,
     "metadata": {},
     "output_type": "execute_result"
    }
   ],
   "source": [
    "f(7)"
   ]
  },
  {
   "cell_type": "code",
   "execution_count": 5,
   "id": "6d699eba-4072-4d33-8d0b-d16500f72861",
   "metadata": {},
   "outputs": [
    {
     "data": {
      "text/plain": [
       "array([0. , 0.1, 0.2, 0.3, 0.4, 0.5, 0.6, 0.7, 0.8, 0.9, 1. , 1.1, 1.2,\n",
       "       1.3, 1.4, 1.5, 1.6, 1.7, 1.8, 1.9, 2. , 2.1, 2.2, 2.3, 2.4, 2.5,\n",
       "       2.6, 2.7, 2.8, 2.9, 3. ])"
      ]
     },
     "execution_count": 5,
     "metadata": {},
     "output_type": "execute_result"
    }
   ],
   "source": [
    "np.arange(0,3+0.1,0.1)"
   ]
  },
  {
   "cell_type": "code",
   "execution_count": 6,
   "id": "c2499f1a-12a1-4e28-bb02-7f05590461d9",
   "metadata": {},
   "outputs": [
    {
     "data": {
      "text/plain": [
       "array([0.        , 0.33333333, 0.66666667, 1.        , 1.33333333,\n",
       "       1.66666667, 2.        , 2.33333333, 2.66666667, 3.        ])"
      ]
     },
     "execution_count": 6,
     "metadata": {},
     "output_type": "execute_result"
    }
   ],
   "source": [
    "np.linspace(0,3,10)"
   ]
  },
  {
   "cell_type": "code",
   "execution_count": 7,
   "id": "e8f0a666-8f5f-4709-a1e5-cd0acd20d7c9",
   "metadata": {},
   "outputs": [
    {
     "data": {
      "text/plain": [
       "31"
      ]
     },
     "execution_count": 7,
     "metadata": {},
     "output_type": "execute_result"
    }
   ],
   "source": [
    "np.arange(0,3+0.1,0.1).size"
   ]
  },
  {
   "cell_type": "code",
   "execution_count": 8,
   "id": "44aa45c7-342b-4bad-9c13-e0dc3d5e5fb2",
   "metadata": {},
   "outputs": [],
   "source": [
    "def ftest(x): #tested with this function first\n",
    "    return x**4-2*x+1"
   ]
  },
  {
   "cell_type": "code",
   "execution_count": 9,
   "id": "1dfe863b-6494-4bf9-a946-46747254e48a",
   "metadata": {},
   "outputs": [],
   "source": [
    "def errortest(calctype,I1,I2):\n",
    "    if calctype=='trapezoid':\n",
    "        return (1/3)*abs(I2-I1)\n",
    "    elif calctype=='simpsons':\n",
    "        return (1/15)*abs(I2-I1)\n",
    "    else:\n",
    "        print(\"Can't estimate error for this calc type.\")"
   ]
  },
  {
   "cell_type": "code",
   "execution_count": 10,
   "id": "5de5574c-50bb-4d38-9c3a-6f6d1b377bdd",
   "metadata": {},
   "outputs": [],
   "source": [
    "epsilon=10**-3\n",
    "N=2\n",
    "I1=trapezoid(ftest,0,2,N=N)\n",
    "I2=trapezoid(ftest,0,2,N=N*2)\n",
    "error=errortest('trapezoid',I1,I2)"
   ]
  },
  {
   "cell_type": "code",
   "execution_count": 11,
   "id": "fbce61b7-4255-49d8-95ad-b3bf04460373",
   "metadata": {},
   "outputs": [
    {
     "name": "stdout",
     "output_type": "stream",
     "text": [
      "4 11.5625 7.81640625\n",
      "8 7.81640625 6.066650390625\n",
      "16 6.066650390625 5.2229156494140625\n",
      "32 5.2229156494140625 4.808854103088379\n",
      "64 4.808854103088379 4.603776037693024\n",
      "128 4.603776037693024 4.501725260168314\n",
      "256 4.501725260168314 4.450821940088645\n",
      "512 4.450821940088645 4.4254007975250715\n",
      "1024 4.4254007975250715 4.41269785563145\n",
      "2048 4.41269785563145 4.4063482920328525\n",
      "4096 4.4063482920328525 4.403173987070752\n",
      "8192 4.403173987070752 4.401586953798947\n"
     ]
    }
   ],
   "source": [
    "while error>epsilon:\n",
    "    N*=2\n",
    "    I1=I2\n",
    "    I2=trapezoid(ftest,0,2,N=N*2)\n",
    "    print(N,I1,I2)\n",
    "    error=errortest('trapezoid',I1,I2)\n"
   ]
  },
  {
   "cell_type": "code",
   "execution_count": 12,
   "id": "2d236d5a-7328-452b-b2e0-d944e012a097",
   "metadata": {},
   "outputs": [
    {
     "name": "stdout",
     "output_type": "stream",
     "text": [
      "4.401586953798947\n"
     ]
    }
   ],
   "source": [
    "print(I2)"
   ]
  },
  {
   "cell_type": "code",
   "execution_count": 13,
   "id": "8194bd12-91ae-43ba-a4fb-fde7cefaa912",
   "metadata": {},
   "outputs": [
    {
     "name": "stdout",
     "output_type": "stream",
     "text": [
      "4 11.5625 7.81640625\n",
      "8 7.81640625 6.066650390625\n",
      "16 6.066650390625 5.2229156494140625\n",
      "32 5.2229156494140625 4.808854103088379\n",
      "64 4.808854103088379 4.603776037693024\n",
      "128 4.603776037693024 4.501725260168314\n",
      "256 4.501725260168314 4.450821940088645\n",
      "512 4.450821940088645 4.4254007975250715\n",
      "1024 4.4254007975250715 4.41269785563145\n",
      "2048 4.41269785563145 4.4063482920328525\n",
      "4096 4.4063482920328525 4.403173987070752\n",
      "8192 4.403173987070752 4.401586953798947\n"
     ]
    },
    {
     "data": {
      "text/plain": [
       "4.401586953798947"
      ]
     },
     "execution_count": 13,
     "metadata": {},
     "output_type": "execute_result"
    }
   ],
   "source": [
    "adaptivetrapezoid(ftest,0,2)"
   ]
  },
  {
   "cell_type": "code",
   "execution_count": 26,
   "id": "51837921-6489-46cc-8bbb-9c0775183ac8",
   "metadata": {},
   "outputs": [
    {
     "name": "stdout",
     "output_type": "stream",
     "text": [
      "4 4.416666666666667 4.401041666666667\n",
      "8 4.401041666666667 4.400065104166667\n"
     ]
    },
    {
     "data": {
      "text/plain": [
       "4.400065104166667"
      ]
     },
     "execution_count": 26,
     "metadata": {},
     "output_type": "execute_result"
    }
   ],
   "source": [
    "adaptivesimpsons(ftest,0,2)"
   ]
  },
  {
   "cell_type": "code",
   "execution_count": 41,
   "id": "8996b8c9-3526-4014-95fb-0c995ded86e4",
   "metadata": {},
   "outputs": [],
   "source": [
    "def trapezoidvector(function, a, b, N): #asked claude for help on how to vectorize this but implemented on my own\n",
    "    vectorf=np.vectorize(function)\n",
    "\n",
    "    deltax=(b-a)/N\n",
    "    Ks=np.arange(1,N+1) #goes to N since arange doesn't include the endpoint\n",
    "    Xs=a+Ks*deltax\n",
    "\n",
    "    Fs=vectorf(Xs)\n",
    "    mysum=np.sum(vectorf(Xs)) #sum the output of all the f(x)'s\n",
    "\n",
    "    fa=function(a)\n",
    "    fb=function(b)\n",
    "    return deltax*(0.5*fa+0.5*fb+mysum), Xs, Fs"
   ]
  },
  {
   "cell_type": "code",
   "execution_count": null,
   "id": "b7791267-e946-460b-84fb-58e503817612",
   "metadata": {},
   "outputs": [],
   "source": [
    "def nestedtrap(function, a, b, Nprev):\n",
    "    "
   ]
  },
  {
   "cell_type": "code",
   "execution_count": 51,
   "id": "449ffec2-bbc3-439a-bcaa-b2cb0079e0c1",
   "metadata": {},
   "outputs": [
    {
     "data": {
      "text/plain": [
       "(6.066650390625,\n",
       " array([0.125, 0.25 , 0.375, 0.5  , 0.625, 0.75 , 0.875, 1.   , 1.125,\n",
       "        1.25 , 1.375, 1.5  , 1.625, 1.75 , 1.875, 2.   ]),\n",
       " array([ 0.75024414,  0.50390625,  0.26977539,  0.0625    , -0.09741211,\n",
       "        -0.18359375, -0.16381836,  0.        ,  0.35180664,  0.94140625,\n",
       "         1.82446289,  3.0625    ,  4.72290039,  6.87890625,  9.60961914,\n",
       "        13.        ]))"
      ]
     },
     "execution_count": 51,
     "metadata": {},
     "output_type": "execute_result"
    }
   ],
   "source": [
    "trapezoidvector(ftest,0,2,N=16)"
   ]
  },
  {
   "cell_type": "code",
   "execution_count": 49,
   "id": "fdd06f85-f919-49a6-a2d6-7147e006cb6c",
   "metadata": {},
   "outputs": [
    {
     "name": "stdout",
     "output_type": "stream",
     "text": [
      "4 11.5625 7.81640625\n",
      "8 7.81640625 6.066650390625\n",
      "16 6.066650390625 5.2229156494140625\n",
      "32 5.2229156494140625 4.808854103088379\n",
      "64 4.808854103088379 4.603776037693024\n",
      "128 4.603776037693024 4.501725260168314\n",
      "256 4.501725260168314 4.450821940088645\n",
      "512 4.450821940088645 4.4254007975250715\n",
      "1024 4.4254007975250715 4.41269785563145\n",
      "2048 4.41269785563145 4.406348292032874\n",
      "4096 4.406348292032874 4.403173987070718\n",
      "8192 4.403173987070718 4.40158695379893\n",
      "16384 4.40158695379893 4.400793466965357\n",
      "32768 4.400793466965357 4.400396730999152\n",
      "65536 4.400396730999152 4.400198364878694\n",
      "131072 4.400198364878694 4.400099182284126\n",
      "262144 4.400099182284126 4.400049591103258\n",
      "524288 4.400049591103258 4.400024795541928\n"
     ]
    }
   ],
   "source": [
    "# epsilon=10**-5\n",
    "# N=2\n",
    "# I1,_,_=trapezoidvector(ftest,0,2,N=N)\n",
    "# I2,_,_=trapezoidvector(ftest,0,2,N=N*2)\n",
    "# error=errortest('trapezoid',I1,I2)\n",
    "# while error>epsilon:\n",
    "#     N*=2\n",
    "#     I1=I2\n",
    "#     I2,_,_=trapezoidvector(ftest,0,2,N=N*2)\n",
    "#     print(N,I1,I2)\n",
    "#     error=errortest('trapezoid',I1,I2)"
   ]
  }
 ],
 "metadata": {
  "kernelspec": {
   "display_name": "Python [conda env:base] *",
   "language": "python",
   "name": "conda-base-py"
  },
  "language_info": {
   "codemirror_mode": {
    "name": "ipython",
    "version": 3
   },
   "file_extension": ".py",
   "mimetype": "text/x-python",
   "name": "python",
   "nbconvert_exporter": "python",
   "pygments_lexer": "ipython3",
   "version": "3.12.2"
  }
 },
 "nbformat": 4,
 "nbformat_minor": 5
}
