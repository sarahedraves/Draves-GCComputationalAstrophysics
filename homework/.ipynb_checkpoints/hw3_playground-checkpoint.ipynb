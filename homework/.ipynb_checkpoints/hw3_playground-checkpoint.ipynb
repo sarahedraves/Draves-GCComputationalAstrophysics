{
 "cells": [
  {
   "cell_type": "code",
   "execution_count": 1,
   "id": "be278691-654c-4cc6-bbb9-044b27a7d1a2",
   "metadata": {},
   "outputs": [],
   "source": [
    "import numpy as np\n",
    "import sys\n",
    "import os\n",
    "import astropy\n",
    "sys.path.append(os.path.join('..', 'importantfunctions'))\n",
    "from nonlinearsolvingmethods import *"
   ]
  },
  {
   "cell_type": "code",
   "execution_count": 2,
   "id": "44ecf40e-36e3-419e-910f-f661edfceb20",
   "metadata": {},
   "outputs": [],
   "source": [
    "a=924\n",
    "b=-2772\n",
    "c=3150\n",
    "d=-1680\n",
    "e=420\n",
    "f=-42\n",
    "g=1"
   ]
  },
  {
   "cell_type": "code",
   "execution_count": 3,
   "id": "f3fdf986-c197-4e8c-9fab-41ebf8a3e1b2",
   "metadata": {},
   "outputs": [],
   "source": [
    "def P(x):\n",
    "    a=924\n",
    "    b=-2772\n",
    "    c=3150\n",
    "    d=-1680\n",
    "    e=420\n",
    "    f=-42\n",
    "    g=1\n",
    "    return a*x**6+b*x**5+c*x**4+d*x**3+e*x**2+f*x+g"
   ]
  },
  {
   "cell_type": "code",
   "execution_count": 4,
   "id": "b9a1dcae-f692-4fc8-8e7c-f5a57755767c",
   "metadata": {},
   "outputs": [],
   "source": [
    "def secant(f,x1,x2,tol=10**-10,maxits=100000):\n",
    "    its=0\n",
    "    x3=x2-f(x2)*(x2-x1)/(f(x2)-f(x1))\n",
    "    while abs(x2-x3)>tol:\n",
    "        print(x1,x2,x3)\n",
    "        its+=1\n",
    "        x1=x2\n",
    "        x2=x3\n",
    "        x3=x2-f(x2)*(x2-x1)/(f(x2)-f(x1))\n",
    "        if its>maxits:\n",
    "            print(f\"Did not converge after {maxits} iterations.\")\n",
    "            return\n",
    "    return x3"
   ]
  },
  {
   "cell_type": "code",
   "execution_count": 5,
   "id": "dbf68a7b-b559-40ab-bc96-529c093a6588",
   "metadata": {},
   "outputs": [
    {
     "name": "stdout",
     "output_type": "stream",
     "text": [
      "0.18 0.19 0.16855504219308876\n",
      "0.19 0.16855504219308876 0.16945183472994346\n",
      "0.16855504219308876 0.16945183472994346 0.16939541667886565\n",
      "0.16945183472994346 0.16939541667886565 0.16939530675225273\n"
     ]
    },
    {
     "data": {
      "text/plain": [
       "0.16939530676686781"
      ]
     },
     "execution_count": 5,
     "metadata": {},
     "output_type": "execute_result"
    }
   ],
   "source": [
    "secant(P,0.18,0.19)"
   ]
  },
  {
   "cell_type": "code",
   "execution_count": 6,
   "id": "c81d7217-068e-4f71-99f5-41537c518c8a",
   "metadata": {},
   "outputs": [],
   "source": [
    "def bettersecant(f,x1,x2,tol=10**-10,maxits=100000): #this is the one actually in the nonlinearsolvingmethods file\n",
    "    its=0\n",
    "    fx1=f(x1)\n",
    "    fx2=f(x2)\n",
    "    x3=x2-fx2*(x2-x1)/(fx2-fx1)\n",
    "    while abs(x2-x3)>tol:\n",
    "        print(x1,x2,x3)\n",
    "        its+=1\n",
    "        x1=x2\n",
    "        x2=x3\n",
    "        fx1=fx2 #saves the trouble of recalculating this\n",
    "        fx2=f(x2) #can think of this as f(x3) but already set x2 to x3\n",
    "        x3=x2-fx2*(x2-x1)/(fx2-fx1)\n",
    "        if its>maxits:\n",
    "            print(f\"Did not converge after {maxits} iterations.\")\n",
    "            return\n",
    "    return x3"
   ]
  },
  {
   "cell_type": "code",
   "execution_count": 7,
   "id": "b85eaf87-9586-4fc8-801e-dd7e79316dc0",
   "metadata": {},
   "outputs": [
    {
     "name": "stdout",
     "output_type": "stream",
     "text": [
      "0.18 0.19 0.16855504219308876\n",
      "0.19 0.16855504219308876 0.16945183472994346\n",
      "0.16855504219308876 0.16945183472994346 0.16939541667886565\n",
      "0.16945183472994346 0.16939541667886565 0.16939530675225273\n"
     ]
    },
    {
     "data": {
      "text/plain": [
       "0.16939530676686781"
      ]
     },
     "execution_count": 7,
     "metadata": {},
     "output_type": "execute_result"
    }
   ],
   "source": [
    "bettersecant(P,0.18,0.19)"
   ]
  },
  {
   "cell_type": "code",
   "execution_count": 8,
   "id": "7b9b6816-56b8-4f7e-ac81-def9521b891a",
   "metadata": {},
   "outputs": [],
   "source": [
    "import astropy.units as u\n",
    "import astropy.constants as const"
   ]
  },
  {
   "cell_type": "code",
   "execution_count": 9,
   "id": "8226cefc-b8ab-4325-a79a-a6ecd46624c5",
   "metadata": {},
   "outputs": [],
   "source": [
    "G=const.G\n",
    "Me=const.M_earth"
   ]
  },
  {
   "cell_type": "code",
   "execution_count": 10,
   "id": "6dc44aee-cf1a-4963-863f-c7a822306c4c",
   "metadata": {},
   "outputs": [
    {
     "data": {
      "text/latex": [
       "$6.6743 \\times 10^{-11} \\; \\mathrm{\\frac{m^{3}}{kg\\,s^{2}}}$"
      ],
      "text/plain": [
       "<<class 'astropy.constants.codata2018.CODATA2018'> name='Gravitational constant' value=6.6743e-11 uncertainty=1.5e-15 unit='m3 / (kg s2)' reference='CODATA 2018'>"
      ]
     },
     "execution_count": 10,
     "metadata": {},
     "output_type": "execute_result"
    }
   ],
   "source": [
    "G"
   ]
  },
  {
   "cell_type": "code",
   "execution_count": 11,
   "id": "3f65b7d5-f852-4a09-8024-137ff7138fe6",
   "metadata": {},
   "outputs": [
    {
     "data": {
      "text/latex": [
       "$5.9721679 \\times 10^{24} \\; \\mathrm{kg}$"
      ],
      "text/plain": [
       "<<class 'astropy.constants.iau2015.IAU2015'> name='Earth mass' value=5.972167867791379e+24 uncertainty=1.3422009501651213e+20 unit='kg' reference='IAU 2015 Resolution B 3 + CODATA 2018'>"
      ]
     },
     "execution_count": 11,
     "metadata": {},
     "output_type": "execute_result"
    }
   ],
   "source": [
    "Me"
   ]
  },
  {
   "cell_type": "code",
   "execution_count": 12,
   "id": "9eaf9687-245f-4835-911c-5c3a9e1239ce",
   "metadata": {},
   "outputs": [],
   "source": [
    "Mm=7.348e22*u.kg"
   ]
  },
  {
   "cell_type": "code",
   "execution_count": 13,
   "id": "76a6c732-ce3b-479b-a7e8-bee9793a4a89",
   "metadata": {},
   "outputs": [
    {
     "data": {
      "text/latex": [
       "$7.348 \\times 10^{22} \\; \\mathrm{kg}$"
      ],
      "text/plain": [
       "<Quantity 7.348e+22 kg>"
      ]
     },
     "execution_count": 13,
     "metadata": {},
     "output_type": "execute_result"
    }
   ],
   "source": [
    "Mm"
   ]
  },
  {
   "cell_type": "code",
   "execution_count": 14,
   "id": "530dc39d-a911-4526-a791-06d844a83e4c",
   "metadata": {},
   "outputs": [],
   "source": [
    "R=3.844e8*u.m"
   ]
  },
  {
   "cell_type": "code",
   "execution_count": 15,
   "id": "3c243f85-db08-4bb0-80b3-96ddd724792d",
   "metadata": {},
   "outputs": [
    {
     "data": {
      "text/latex": [
       "$3.844 \\times 10^{8} \\; \\mathrm{m}$"
      ],
      "text/plain": [
       "<Quantity 3.844e+08 m>"
      ]
     },
     "execution_count": 15,
     "metadata": {},
     "output_type": "execute_result"
    }
   ],
   "source": [
    "R"
   ]
  },
  {
   "cell_type": "code",
   "execution_count": 16,
   "id": "2700205e-ec34-4d94-89c9-2df81a77baf4",
   "metadata": {},
   "outputs": [],
   "source": [
    "omega=2.662e-6/u.s"
   ]
  },
  {
   "cell_type": "code",
   "execution_count": 17,
   "id": "a21c8e89-eea4-45f3-b6c3-8d31632f9bb7",
   "metadata": {},
   "outputs": [
    {
     "data": {
      "text/latex": [
       "$2.662 \\times 10^{-6} \\; \\mathrm{\\frac{1}{s}}$"
      ],
      "text/plain": [
       "<Quantity 2.662e-06 1 / s>"
      ]
     },
     "execution_count": 17,
     "metadata": {},
     "output_type": "execute_result"
    }
   ],
   "source": [
    "omega"
   ]
  },
  {
   "cell_type": "code",
   "execution_count": 18,
   "id": "e22221ea-0358-420d-ad2c-8cd009e22af1",
   "metadata": {},
   "outputs": [],
   "source": [
    "def Lagrange(r): #input must be a quantity with units u.m\n",
    "    #constants\n",
    "    G=const.G\n",
    "    Me=const.M_earth\n",
    "    Mm=7.348e22*u.kg\n",
    "    R=3.844e8*u.m\n",
    "    omega=2.662e-6/u.s\n",
    "    return (G*Me/r**2)-(G*Mm/(R-r)**2)-r*omega**2"
   ]
  },
  {
   "cell_type": "code",
   "execution_count": 19,
   "id": "01eac585-1515-4307-a218-6daa86f5b22b",
   "metadata": {},
   "outputs": [],
   "source": [
    "import matplotlib.pyplot as plt"
   ]
  },
  {
   "cell_type": "code",
   "execution_count": 23,
   "id": "99fbb160-34fe-4690-a511-a69be0692629",
   "metadata": {},
   "outputs": [],
   "source": [
    "rs=np.linspace(1e8*u.m,5e8*u.m,1000)"
   ]
  },
  {
   "cell_type": "code",
   "execution_count": 25,
   "id": "13168f87-da57-4945-b75c-b69b93a98809",
   "metadata": {},
   "outputs": [],
   "source": [
    "Ys=np.zeros(rs.size)* (u.m / u.s**2)"
   ]
  },
  {
   "cell_type": "code",
   "execution_count": 27,
   "id": "fdb399dd-27f7-4862-986b-93fb6fe12873",
   "metadata": {},
   "outputs": [
    {
     "data": {
      "image/png": "[encoded data removed]",
      "text/plain": [
       "<Figure size 640x480 with 1 Axes>"
      ]
     },
     "metadata": {},
     "output_type": "display_data"
    }
   ],
   "source": [
    "\n",
    "for i,r in enumerate(rs):\n",
    "    Ys[i]=Lagrange(r)\n",
    "plt.plot(rs,Ys)\n",
    "plt.ylim(-0.05,0.05)\n",
    "plt.axhline(y=0)\n",
    "plt.show()"
   ]
  },
  {
   "cell_type": "code",
   "execution_count": 29,
   "id": "578168fc-8840-4292-a323-a839dcec7e9a",
   "metadata": {},
   "outputs": [
    {
     "data": {
      "image/png": "[encoded data removed]",
      "text/plain": [
       "<Figure size 640x480 with 1 Axes>"
      ]
     },
     "metadata": {},
     "output_type": "display_data"
    }
   ],
   "source": [
    "rs=np.linspace(100000*u.m,5e8*u.m,1000)\n",
    "for i,r in enumerate(rs):\n",
    "    Ys[i]=Lagrange(r)\n",
    "plt.plot(rs,Ys)\n",
    "plt.ylim(-2,2)\n",
    "#plt.axhline(y=0)\n",
    "plt.show()"
   ]
  },
  {
   "cell_type": "code",
   "execution_count": 31,
   "id": "51c3f689-6376-48c2-8195-fc1e4759f18f",
   "metadata": {},
   "outputs": [
    {
     "data": {
      "image/png": "[encoded data removed]",
      "text/plain": [
       "<Figure size 640x480 with 1 Axes>"
      ]
     },
     "metadata": {},
     "output_type": "display_data"
    }
   ],
   "source": [
    "rs=np.linspace(3.2e8*u.m,3.3e8*u.m,1000)\n",
    "for i,r in enumerate(rs):\n",
    "    Ys[i]=Lagrange(r)\n",
    "plt.plot(rs,Ys)\n",
    "plt.ylim(-0.0005,0.0005)\n",
    "plt.axhline(y=0)\n",
    "plt.show()"
   ]
  },
  {
   "cell_type": "markdown",
   "id": "0cf6f9ed-26e3-403c-8111-98f043d90cbb",
   "metadata": {},
   "source": [
    "Okay these plots make sense because the y axis represents acceleration towards earth. The values of the equation only make sense between 0 and R=3.844e8m, because the L1 point falls in that range and the equation is only designed to handle that situation. At the L1 point (appears to be around 3.3e8m), the forces are balanced so the acceleration is zero. To the left of that (closer to earth), the acceleration is positive since the attraction to earth dominates. To the right of L1 (closer to the moon), the acceleration is negative since the attraction to the moon dominates. Because the equation is a quintic, the acceleration stays relatively close to zero until it gets within a critical radius of either object, and then the magnitude of the acceleration rapidly increases.\n",
    "\n",
    "Will use the guesses:\n",
    "- Newton: 3.3e8 - this didn't converge after 100,000 its even with specifying only four sig figs so had to update it to 3.26e8\n",
    "- Secant: 3.3e8 and 3.35e8 (or 3.2e8 and 3.25e8 for other side)\n",
    "- Bisection (if time): 3.2e8 and 3.3e8 (because they are on either side of the root)"
   ]
  },
  {
   "cell_type": "code",
   "execution_count": 37,
   "id": "f611fc5c-c967-4a44-b261-71a2475be0cd",
   "metadata": {},
   "outputs": [],
   "source": [
    "def Lagrange2(r): #this is better since we don't have the R-r squared. tested to make sure they both give the same result.\n",
    "    #constants\n",
    "    G=const.G\n",
    "    M=const.M_earth\n",
    "    m=7.348e22*u.kg\n",
    "    R=3.844e8*u.m\n",
    "    omega=2.662e-6/u.s\n",
    "    r5=-omega**2*r**5\n",
    "    r4=2*R*omega**2*r**4\n",
    "    r3=-omega**2*R**2*r**3\n",
    "    r2=G*(M-m)*r**2\n",
    "    r1=-2*G*M*R*r\n",
    "    r0=G*M*R**2\n",
    "    return r5+r4+r3+r2+r1+r0"
   ]
  },
  {
   "cell_type": "code",
   "execution_count": 39,
   "id": "76688a8f-3c40-4e55-a1c5-0c432efc48af",
   "metadata": {},
   "outputs": [
    {
     "data": {
      "image/png": "[encoded data removed]",
      "text/plain": [
       "<Figure size 640x480 with 1 Axes>"
      ]
     },
     "metadata": {},
     "output_type": "display_data"
    }
   ],
   "source": [
    "Ys=np.zeros(rs.size)* (u.m**5 / u.s**2)\n",
    "rs=np.linspace(3.26e8*u.m,3.261e8*u.m,1000)\n",
    "for i,r in enumerate(rs):\n",
    "    Ys[i]=Lagrange2(r)\n",
    "plt.plot(rs,Ys)\n",
    "plt.ylim(-0.0005,0.0005)\n",
    "plt.axhline(y=0)\n",
    "plt.show()"
   ]
  },
  {
   "cell_type": "code",
   "execution_count": 49,
   "id": "db866735-bbe8-475b-b6cb-a8053589a2ff",
   "metadata": {},
   "outputs": [],
   "source": [
    "def bisection(f,xl,xr,tol=10**-10,maxits=100000):\n",
    "    if xl>xr or math.isclose(xl, xr, rel_tol=tol, abs_tol=1e-12):\n",
    "        print('xl (left) guess must be less than xr (right) guess.')\n",
    "        return\n",
    "    fxl=f(xl)\n",
    "    fxr=f(xr)\n",
    "    if math.isclose(fxl, 0, rel_tol=tol, abs_tol=1e-12):\n",
    "        print('xl guess is within tolerance of root.')\n",
    "        return xl\n",
    "    if math.isclose(fxr, 0, rel_tol=tol, abs_tol=1e-12):\n",
    "        print('xr guess is within tolerance of root.')\n",
    "        return xr\n",
    "    if (fxl>0 and fxr>0) or (fxl<0 and fxr<0):\n",
    "        print('f(xl) and f(xr) are either both positive or both negative. cannot guarantee that a root is present in that range, so will not evaluate.')\n",
    "        return\n",
    "    \n",
    "    its=0\n",
    "    xc=None\n",
    "    while not math.isclose(xl, xr, rel_tol=tol, abs_tol=1e-12):\n",
    "        print(xl,xc,xr)\n",
    "        its+=1\n",
    "        xc=(xl+xr)/2\n",
    "        fxc=f(xc) #only one function evaluation per loop\n",
    "        if fxl*fxc<0: #will be negative if they have opposite signs, so the root is in that half\n",
    "            xr=xc\n",
    "            fxr=fxc\n",
    "        elif fxr*fxc<0:\n",
    "            xl=xc\n",
    "            fxl=fxc\n",
    "        if its>maxits:\n",
    "            print(f\"Did not converge after {maxits} iterations.\")\n",
    "            return\n",
    "    return xc"
   ]
  },
  {
   "cell_type": "code",
   "execution_count": 70,
   "id": "9ad053af-6a4b-47fb-b5d9-8f9d5e904fda",
   "metadata": {},
   "outputs": [
    {
     "name": "stdout",
     "output_type": "stream",
     "text": [
      "0.35 None 0.5\n",
      "0.35 0.425 0.425\n",
      "0.35 0.38749999999999996 0.38749999999999996\n",
      "0.36874999999999997 0.36874999999999997 0.38749999999999996\n",
      "0.37812499999999993 0.37812499999999993 0.38749999999999996\n",
      "0.37812499999999993 0.38281249999999994 0.38281249999999994\n",
      "0.3804687499999999 0.3804687499999999 0.38281249999999994\n",
      "0.3804687499999999 0.38164062499999996 0.38164062499999996\n",
      "0.3804687499999999 0.38105468749999993 0.38105468749999993\n",
      "0.3804687499999999 0.3807617187499999 0.3807617187499999\n",
      "0.3806152343749999 0.3806152343749999 0.3807617187499999\n",
      "0.38068847656249993 0.38068847656249993 0.3807617187499999\n",
      "0.38068847656249993 0.38072509765624996 0.38072509765624996\n",
      "0.38068847656249993 0.38070678710937494 0.38070678710937494\n",
      "0.38068847656249993 0.3806976318359374 0.3806976318359374\n",
      "0.38068847656249993 0.3806930541992187 0.3806930541992187\n",
      "0.38068847656249993 0.38069076538085933 0.38069076538085933\n",
      "0.38068962097167963 0.38068962097167963 0.38069076538085933\n",
      "0.3806901931762695 0.3806901931762695 0.38069076538085933\n",
      "0.3806901931762695 0.3806904792785644 0.3806904792785644\n",
      "0.380690336227417 0.380690336227417 0.3806904792785644\n",
      "0.380690336227417 0.3806904077529907 0.3806904077529907\n",
      "0.38069037199020384 0.38069037199020384 0.3806904077529907\n",
      "0.38069038987159726 0.38069038987159726 0.3806904077529907\n",
      "0.38069039881229394 0.38069039881229394 0.3806904077529907\n",
      "0.3806904032826423 0.3806904032826423 0.3806904077529907\n",
      "0.3806904055178165 0.3806904055178165 0.3806904077529907\n",
      "0.3806904066354036 0.3806904066354036 0.3806904077529907\n",
      "0.3806904066354036 0.3806904071941971 0.3806904071941971\n",
      "0.3806904069148004 0.3806904069148004 0.3806904071941971\n",
      "0.3806904069148004 0.38069040705449875 0.38069040705449875\n",
      "0.3806904069148004 0.38069040698464957 0.38069040698464957\n"
     ]
    },
    {
     "data": {
      "text/plain": [
       "0.380690406949725"
      ]
     },
     "execution_count": 70,
     "metadata": {},
     "output_type": "execute_result"
    }
   ],
   "source": [
    "bisection(P,0.35,0.5)"
   ]
  },
  {
   "cell_type": "code",
   "execution_count": null,
   "id": "636d8ecc-de45-4cd9-9fa5-1a6a7cf07c74",
   "metadata": {},
   "outputs": [],
   "source": []
  }
 ],
 "metadata": {
  "kernelspec": {
   "display_name": "Python [conda env:base] *",
   "language": "python",
   "name": "conda-base-py"
  },
  "language_info": {
   "codemirror_mode": {
    "name": "ipython",
    "version": 3
   },
   "file_extension": ".py",
   "mimetype": "text/x-python",
   "name": "python",
   "nbconvert_exporter": "python",
   "pygments_lexer": "ipython3",
   "version": "3.12.2"
  }
 },
 "nbformat": 4,
 "nbformat_minor": 5
}
